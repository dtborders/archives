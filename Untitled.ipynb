{
 "cells": [
  {
   "cell_type": "code",
   "execution_count": 1,
   "metadata": {},
   "outputs": [],
   "source": [
    "import numpy as np"
   ]
  },
  {
   "cell_type": "code",
   "execution_count": 9,
   "metadata": {},
   "outputs": [],
   "source": [
    "def sgm(A, B, seeds, hard=True, pad=0, start='barycenter', maxiter=20):\n",
    "    gamma = 0.1\n",
    "    nv1 = A.shape[0]\n",
    "    nv2 = B.shape[0]\n",
    "    nv = max(nv1, nv2)\n",
    "    \n",
    "    if (seeds is None):\n",
    "        m = 0\n",
    "        if start == 'barycenter':\n",
    "            S = np.full((nv, nv), 1/float(nv))\n",
    "        else:\n",
    "            return None #Implement rsp function later\n",
    "        AA = A\n",
    "        BB = B\n",
    "    else:\n",
    "        A_ind = np.concatenate((seeds[:, 0], np.arange(nv1)))\n",
    "        B_ind = np.concatenate((seeds[:, 1], np.arange(nv2)))\n",
    "        AA = A[A_ind, A_ind] #Unsure if this is correct\n",
    "        BB = B[B_ind, B_ind]\n",
    "        \n",
    "        m = seeds.shape[0]\n",
    "        \n",
    "        if (hard):\n",
    "            n = nv - m\n",
    "            if start == 'barycenter':\n",
    "                S = np.full((n, n), 1/float(n))\n",
    "            else:\n",
    "                return None #Implement rsp function later\n",
    "        else:\n",
    "            s = m\n",
    "            m = 0\n",
    "            if start == 'barycenter':\n",
    "                diag1 = np.identity(s)\n",
    "                diag2 = np.full((nv-s, nv-s), 1/float(nv-s))\n",
    "                offdiag = np.full((0, s), nv-s)\n",
    "                S = np.concatenate((np.concatenate((diag1,offdiag), axis=1), np.concatenate((t(offdiag),diag2), axis=1)), axis=0)\n",
    "            else:\n",
    "                return None #Implement this functionality later\n",
    "        \n",
    "    return [AA, BB, m, S, pad, maxiter]\n",
    "            \n",
    "        "
   ]
  },
  {
   "cell_type": "code",
   "execution_count": 23,
   "metadata": {},
   "outputs": [
    {
     "name": "stdout",
     "output_type": "stream",
     "text": [
      "AA =  [0.75538965 0.30131153 0.10729679 0.75538965 0.98165803 0.30131153\n",
      " 0.9888924  0.94004024 0.06687727 0.2742293  0.54745611 0.56816426\n",
      " 0.74189245 0.22737697 0.4461769  0.49226464 0.01880777]\n",
      "BB =  [0.45432385 0.603918   0.75281619 0.20387445 0.45432385 0.25250456\n",
      " 0.603918   0.65701424 0.84301911 0.69713434 0.33464427 0.017794\n",
      " 0.68519079 0.74935264 0.44112148 0.3865359  0.25840143]\n",
      "m =  2\n",
      "S =  [[0.07692308 0.07692308 0.07692308 0.07692308 0.07692308 0.07692308\n",
      "  0.07692308 0.07692308 0.07692308 0.07692308 0.07692308 0.07692308\n",
      "  0.07692308]\n",
      " [0.07692308 0.07692308 0.07692308 0.07692308 0.07692308 0.07692308\n",
      "  0.07692308 0.07692308 0.07692308 0.07692308 0.07692308 0.07692308\n",
      "  0.07692308]\n",
      " [0.07692308 0.07692308 0.07692308 0.07692308 0.07692308 0.07692308\n",
      "  0.07692308 0.07692308 0.07692308 0.07692308 0.07692308 0.07692308\n",
      "  0.07692308]\n",
      " [0.07692308 0.07692308 0.07692308 0.07692308 0.07692308 0.07692308\n",
      "  0.07692308 0.07692308 0.07692308 0.07692308 0.07692308 0.07692308\n",
      "  0.07692308]\n",
      " [0.07692308 0.07692308 0.07692308 0.07692308 0.07692308 0.07692308\n",
      "  0.07692308 0.07692308 0.07692308 0.07692308 0.07692308 0.07692308\n",
      "  0.07692308]\n",
      " [0.07692308 0.07692308 0.07692308 0.07692308 0.07692308 0.07692308\n",
      "  0.07692308 0.07692308 0.07692308 0.07692308 0.07692308 0.07692308\n",
      "  0.07692308]\n",
      " [0.07692308 0.07692308 0.07692308 0.07692308 0.07692308 0.07692308\n",
      "  0.07692308 0.07692308 0.07692308 0.07692308 0.07692308 0.07692308\n",
      "  0.07692308]\n",
      " [0.07692308 0.07692308 0.07692308 0.07692308 0.07692308 0.07692308\n",
      "  0.07692308 0.07692308 0.07692308 0.07692308 0.07692308 0.07692308\n",
      "  0.07692308]\n",
      " [0.07692308 0.07692308 0.07692308 0.07692308 0.07692308 0.07692308\n",
      "  0.07692308 0.07692308 0.07692308 0.07692308 0.07692308 0.07692308\n",
      "  0.07692308]\n",
      " [0.07692308 0.07692308 0.07692308 0.07692308 0.07692308 0.07692308\n",
      "  0.07692308 0.07692308 0.07692308 0.07692308 0.07692308 0.07692308\n",
      "  0.07692308]\n",
      " [0.07692308 0.07692308 0.07692308 0.07692308 0.07692308 0.07692308\n",
      "  0.07692308 0.07692308 0.07692308 0.07692308 0.07692308 0.07692308\n",
      "  0.07692308]\n",
      " [0.07692308 0.07692308 0.07692308 0.07692308 0.07692308 0.07692308\n",
      "  0.07692308 0.07692308 0.07692308 0.07692308 0.07692308 0.07692308\n",
      "  0.07692308]\n",
      " [0.07692308 0.07692308 0.07692308 0.07692308 0.07692308 0.07692308\n",
      "  0.07692308 0.07692308 0.07692308 0.07692308 0.07692308 0.07692308\n",
      "  0.07692308]]\n",
      "pad =  0\n",
      "maxiter =  20\n"
     ]
    }
   ],
   "source": [
    "A = np.random.rand(15, 15)\n",
    "B = np.random.rand(15, 15)\n",
    "C = np.array([[1,2], [3,4]])\n",
    "AA, BB, m, S, pad, maxiter = sgm(A, B, C)\n",
    "print(\"AA = \", AA)\n",
    "print(\"BB = \", BB)\n",
    "print(\"m = \", m)\n",
    "print(\"S = \", S)\n",
    "print(\"pad = \", pad)\n",
    "print(\"maxiter = \", maxiter)\n"
   ]
  },
  {
   "cell_type": "code",
   "execution_count": null,
   "metadata": {},
   "outputs": [],
   "source": []
  },
  {
   "cell_type": "code",
   "execution_count": null,
   "metadata": {},
   "outputs": [],
   "source": []
  },
  {
   "cell_type": "code",
   "execution_count": null,
   "metadata": {},
   "outputs": [],
   "source": []
  }
 ],
 "metadata": {
  "kernelspec": {
   "display_name": "Python 3",
   "language": "python",
   "name": "python3"
  },
  "language_info": {
   "codemirror_mode": {
    "name": "ipython",
    "version": 3
   },
   "file_extension": ".py",
   "mimetype": "text/x-python",
   "name": "python",
   "nbconvert_exporter": "python",
   "pygments_lexer": "ipython3",
   "version": "3.7.6"
  }
 },
 "nbformat": 4,
 "nbformat_minor": 4
}
