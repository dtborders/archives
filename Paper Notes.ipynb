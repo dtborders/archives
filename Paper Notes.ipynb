{
 "cells": [
  {
   "cell_type": "markdown",
   "metadata": {},
   "source": [
    "# Paper Notes\n",
    "\n",
    "## Out-of-sample extension of graph adjacency spectral embedding, Levin\n",
    "\n",
    "### Out-of-sample problem description. \n",
    "\n",
    "Working with embeddings where you have some training set $D = \\{z_1, z_2, ..., z_n\\}$ and you want to embed each each training sample in a lower dimensional ($d$) space. Let $X \\epsilon R^{n\\times d}$ be that embeding where the nth row corresponds to the embedding of $z_n$. The out of sample problem is to embed a z you havent seen using only $X$\n",
    "\n",
    "### Laplacian Embedding\n",
    "\n",
    "Laplacian embedding is a graph embedding. Given Adjacency matrix $A \\epsilon R^{n \\times n}$. Laplacian $L = D^{-1/2}AD^{-1/2}$. Note, $D \\epsilon R^{n \\times n}$ where $d_{ii} = \\sum_j A_{ij}$. The embedding is given by the rows of $U_L \\epsilon R^{n \\times d}$ whose columns are the d orthonormal eigenvectors corresponding to the top d eigenvalues of L (not including 1). \n",
    "\n",
    "### Out of sample extension\n",
    "\n",
    "In order to get the out of sample extension we do the following:\n",
    "\n",
    "$min_{f(x)\\epsilon R^d} \\sum_{i=1}^n{(K(x, x_i) - \\frac{1}{n}\\sum_{t=1}{d}{\\lambda_t f_t(x_i) f_t(x)})}$\n",
    "\n",
    "Note: \n",
    "$f_t(x_i) = (v_t)_i$ which is the ith component of $v_t$\n",
    "\n",
    "### Question, is Laplacian Spectral Embedding the same as Laplacian eigenmaps embedding?\n",
    "\n",
    "## Laplacian Eigenmaps and Spectral Techniques for Embedding and Clustering, Belkin\n",
    "\n",
    "#### The laplacian eigenmap embedding has a property where it conserves locality. This means that it emphasizes natural spatial clusters in the data. \n",
    "\n",
    "### LSE algorithm: \n",
    "![](spectral_clustering_alg.png)\n",
    "![](spectral_clustering_alg_2.png)\n",
    "\n"
   ]
  },
  {
   "cell_type": "code",
   "execution_count": 1,
   "metadata": {},
   "outputs": [
    {
     "name": "stdout",
     "output_type": "stream",
     "text": [
      "Laplacian Eigenmaps and Sp ectral Techniques for Emb edding and Clustering.pdf\r\n",
      "Laplacian Eigenmaps for Dimensionality Reduction and Data Representation.pdf\r\n",
      "Out-of-Sample Extensions for LLE, Isomap, MDS, Eigenmaps, and Spectral Clustering.pdf\r\n",
      "Out-of-sample extension of graph adjacency spectral embedding.pdf\r\n",
      "Paper Notes.ipynb\r\n",
      "figure_to_reproduce.png\r\n",
      "spectral_clustering_alg.png\r\n",
      "spectral_clustering_alg_2.png\r\n"
     ]
    }
   ],
   "source": [
    "!ls"
   ]
  },
  {
   "cell_type": "markdown",
   "metadata": {},
   "source": [
    "# Proposed experiment to make sure it works\n",
    "Replicate figure 1 in [paper](https://arxiv.org/pdf/1802.06307.pdf) from Levin\n",
    "\n",
    "![](figure_to_reproduce.png)\n",
    "\n",
    "How the figure was created:\n",
    "\n",
    "1) RDPG with parameters with number of nodes 50, 100, and 500 (100 trials each)\n",
    "\n",
    "2) Embed with the OOS LSE Algorithm \n",
    "\n",
    "3) Produce the plots\n",
    "\n",
    "\n",
    "I could create these plots on the [OOS LSE code](https://github.com/neurodata/primitives-interfaces/tree/master/jhu_primitives/ooslse) already written, then test my implementation to ensure results are the same.\n"
   ]
  },
  {
   "cell_type": "markdown",
   "metadata": {},
   "source": [
    "# Initial testing \n",
    "\n",
    "Goal: Make sure the LSE looks similar to the figure pictured above\n",
    "\n",
    "Note: Some of the following code (namley the code for plotting) was adapted from [Alex's code](https://github.com/loftusa/graspy-personal/blob/master/oos/notebooks/paper_fig_recreation.ipynb)"
   ]
  },
  {
   "cell_type": "code",
   "execution_count": 41,
   "metadata": {},
   "outputs": [],
   "source": [
    "from scipy.stats import norm\n",
    "from scipy.stats import rankdata\n",
    "\n",
    "from sklearn.decomposition import TruncatedSVD\n",
    "\n",
    "import matplotlib.pyplot as plt\n",
    "\n",
    "import numpy as np\n",
    "\n",
    "from graspy.simulations import rdpg\n",
    "from graspy.embed.base import BaseEmbed\n",
    "from graspy.plot import heatmap, pairplot\n",
    "from graspy.utils import (\n",
    "    import_graph,\n",
    "    is_fully_connected,\n",
    "    augment_diagonal,\n",
    "    pass_to_ranks,\n",
    "    is_unweighted,\n",
    ")\n",
    "\n",
    "from scipy.linalg import orthogonal_procrustes"
   ]
  },
  {
   "cell_type": "code",
   "execution_count": 7,
   "metadata": {},
   "outputs": [],
   "source": [
    "def _profile_likelihood_maximization(U, n_elbows):\n",
    "    \"\"\"\n",
    "    Inputs\n",
    "        U - An ordered or unordered list of eigenvalues\n",
    "        n - The number of elbows to return\n",
    "    Return\n",
    "        elbows - A numpy array containing elbows\n",
    "    \"\"\"\n",
    "    if type(U) == list:  # cast to array for functionality later\n",
    "        U = np.array(U)\n",
    "\n",
    "    if n_elbows == 0:  # nothing to do..\n",
    "        return np.array([])\n",
    "\n",
    "    if U.ndim == 2:\n",
    "        U = np.std(U, axis=0)\n",
    "\n",
    "    if len(U) == 0:\n",
    "        return np.array([])\n",
    "\n",
    "    elbows = []\n",
    "\n",
    "    if len(U) == 1:\n",
    "        return np.array(elbows.append(U[0]))\n",
    "\n",
    "    # select values greater than the threshold\n",
    "    U.sort()  # sort\n",
    "    U = U[::-1]  # reverse array so that it is sorted in descending order\n",
    "    n = len(U)\n",
    "\n",
    "    while len(elbows) < n_elbows and len(U) > 1:\n",
    "        d = 1\n",
    "        sample_var = np.var(U, ddof=1)\n",
    "        sample_scale = sample_var ** (1 / 2)\n",
    "        elbow = 0\n",
    "        likelihood_elbow = -1000000\n",
    "        while d < len(U):\n",
    "            mean_sig = np.mean(U[:d])\n",
    "            mean_noise = np.mean(U[d:])\n",
    "            sig_likelihood = 0\n",
    "            noise_likelihood = 0\n",
    "            for i in range(d):\n",
    "                sig_likelihood += np.log(norm.pdf(U[i], mean_sig, sample_scale))\n",
    "            for i in range(d, len(U)):\n",
    "                noise_likelihood += np.log(norm.pdf(U[i], mean_noise, sample_scale))\n",
    "\n",
    "            likelihood = noise_likelihood + sig_likelihood\n",
    "\n",
    "            if likelihood > likelihood_elbow:\n",
    "                likelihood_elbow = likelihood\n",
    "                elbow = d\n",
    "            d += 1\n",
    "        if len(elbows) == 0:\n",
    "            elbows.append(elbow)\n",
    "        else:\n",
    "            elbows.append(elbow + elbows[-1])\n",
    "        U = U[elbow:]\n",
    "\n",
    "    if len(elbows) == n_elbows:\n",
    "        return np.array(elbows)\n",
    "\n",
    "    if len(U) == 0:\n",
    "        return np.array(elbows)\n",
    "    else:\n",
    "        elbows.append(n)\n",
    "        return np.array(elbows)"
   ]
  },
  {
   "cell_type": "code",
   "execution_count": 136,
   "metadata": {},
   "outputs": [],
   "source": [
    "np.random.seed(1234)\n",
    "\n",
    "def produce(inpt, out_samp, max_dimension = 1, which_elbow = 1, n_in_sample = 1000):\n",
    "    \"\"\"\n",
    "    Perform Out of Sample Laplacian Spectral Embedding on a graph.\n",
    "    max_dimension >= 1\n",
    "    which_elbow is 1 or 2\n",
    "    n_in_sample >= 1\n",
    "    \n",
    "    \"\"\"\n",
    "    g = inpt.copy()\n",
    "\n",
    "    n = g.shape[0]\n",
    "    D = np.linalg.pinv(np.diag(g.sum(axis=1))**(1/2))\n",
    "    L = D @ g @ D\n",
    "\n",
    "    if max_dimension >= n:\n",
    "        max_dimension = n - 1\n",
    "    d_max = max_dimension\n",
    "\n",
    "    in_sample_n = n_in_sample\n",
    "\n",
    "    if in_sample_n > n:\n",
    "        in_sample_n = n\n",
    "    #print(\"n = \", n)\n",
    "#     in_sample_idx = np.random.choice(n, in_sample_n)\n",
    "    in_sample_idx = np.setdiff1d(np.arange(n), out_samp)\n",
    "    #print(\"in_sample_idx = \", in_sample_idx)\n",
    "#     out_sample_idx = np.setdiff1d(list(range(n)),in_sample_idx)\n",
    "    out_sample_idx = out_samp\n",
    "    #print(\"out_sample_idx = \", out_sample_idx)\n",
    "\n",
    "    in_sample_A = L[np.ix_(in_sample_idx, in_sample_idx)]\n",
    "    #print(\"in_sample_A shape = \", in_sample_A.shape)\n",
    "    out_sample_A = L[np.ix_(out_sample_idx, in_sample_idx)]\n",
    "    #print(\"out_sample_A shape = \", out_sample_A.shape)\n",
    "\n",
    "    tsvd = TruncatedSVD(n_components = d_max)\n",
    "    tsvd.fit(in_sample_A)\n",
    "\n",
    "    eig_vectors = tsvd.components_.T\n",
    "    eig_values = tsvd.singular_values_\n",
    "    elbow = _profile_likelihood_maximization(eig_values, which_elbow)[-1]\n",
    "\n",
    "    eig_vectors = eig_vectors[:, :elbow + 1].copy()\n",
    "    eig_values = eig_values[:elbow + 1].copy()\n",
    "    d = len(eig_values)\n",
    "\n",
    "    in_sample_embedding = eig_vectors.dot(np.diag(eig_values**0.5))\n",
    "\n",
    "    out_sample_embedding = out_sample_A @ eig_vectors @ np.diag(1/np.sqrt(eig_values))\n",
    "    embedding = np.zeros((n,d))\n",
    "    embedding[in_sample_idx] = in_sample_embedding\n",
    "    embedding[out_sample_idx] = out_sample_embedding\n",
    "\n",
    "    return embedding, in_sample_idx, out_sample_idx"
   ]
  },
  {
   "cell_type": "code",
   "execution_count": null,
   "metadata": {},
   "outputs": [],
   "source": []
  },
  {
   "cell_type": "code",
   "execution_count": 34,
   "metadata": {},
   "outputs": [],
   "source": [
    "# Needs updating... not working\n",
    "\n",
    "def trial(n, directed=False):\n",
    "    # known parameters\n",
    "    labels = [\"blue\"]*n + [\"red\"]*n\n",
    "    lamb = np.array([0.4, 1-.4])\n",
    "    x1 = np.array([.2, .7])\n",
    "    x2 = np.array([.65, .3])\n",
    "    latents = np.vstack((x1, x2))\n",
    "    \n",
    "    # generate latent positions\n",
    "    latents = np.repeat(latents, n, axis=0)\n",
    "\n",
    "    # generate M from rdpg\n",
    "    M = rdpg(latents, directed=directed)\n",
    "\n",
    "    # index out oos\n",
    "    p = np.repeat(lamb, n) / n\n",
    "    i = np.random.choice(n*2, p=p)\n",
    "    label = labels[i]\n",
    "    a = np.delete(M[i, :], i)\n",
    "    if directed:\n",
    "        a2 = np.delete(M[:, i], i)\n",
    "        a = (a, a2)\n",
    "    A = np.delete(np.delete(M, i, 0), i, 1)\n",
    "    latents_ = np.delete(latents, i, 0)\n",
    "\n",
    "    # embed without oos stuff\n",
    "    embding, insmpl, outsmpl = produce(A, max_dimension=2, n_in_sample=A.shape[0]-1)\n",
    "    \n",
    "    # Procrustes alignment\n",
    "#     R, _ = orthogonal_procrustes(ase.latent_left_, latents_)\n",
    "#     if directed:\n",
    "#         R_right_, _ = orthogonal_procrustes(ase.latent_right_, latents_)\n",
    "\n",
    "    # predict oos\n",
    "    w = embding[outsmpl]\n",
    "#     if not directed:\n",
    "#         w = w @ R\n",
    "#     else:\n",
    "#         w_left_ = w[0] @ R\n",
    "#         w_right_ = w[1] @ R_right_\n",
    "#         w = (w_left_, w_right_)\n",
    "\n",
    "    return w, label"
   ]
  },
  {
   "cell_type": "markdown",
   "metadata": {},
   "source": [
    "# Try one trial first"
   ]
  },
  {
   "cell_type": "code",
   "execution_count": 90,
   "metadata": {},
   "outputs": [],
   "source": [
    "n=50\n",
    "labels = [\"blue\"]*n + [\"red\"]*n\n",
    "lamb = np.array([0.4, 1-.4])\n",
    "x1 = np.array([.2, .7])\n",
    "x2 = np.array([.65, .3])\n",
    "latents = np.vstack((x1, x2))\n",
    "\n",
    "latents = np.repeat(latents, n, axis=0)\n",
    "\n",
    "# generate M from rdpg\n",
    "M = rdpg(latents, directed=False)\n",
    "\n",
    "# # index out oos\n",
    "# p = np.repeat(lamb, n) / n\n",
    "# i = np.random.choice(n*2, p=p)\n",
    "# label = labels[i]\n",
    "# a = np.delete(M[i, :], i)\n",
    "\n",
    "# #A = np.delete(np.delete(M, i, 0), i, 1)\n",
    "# print(A.shape)\n",
    "# latents_ = np.delete(latents, 0)"
   ]
  },
  {
   "cell_type": "code",
   "execution_count": 91,
   "metadata": {},
   "outputs": [
    {
     "data": {
      "text/plain": [
       "<matplotlib.axes._subplots.AxesSubplot at 0x7f9bf8456bd0>"
      ]
     },
     "execution_count": 91,
     "metadata": {},
     "output_type": "execute_result"
    },
    {
     "data": {
      "image/png": "[encoded data removed]",
      "text/plain": [
       "<Figure size 720x720 with 2 Axes>"
      ]
     },
     "metadata": {
      "needs_background": "light"
     },
     "output_type": "display_data"
    }
   ],
   "source": [
    "heatmap(M)"
   ]
  },
  {
   "cell_type": "code",
   "execution_count": 92,
   "metadata": {},
   "outputs": [
    {
     "name": "stdout",
     "output_type": "stream",
     "text": [
      "(100, 100)\n"
     ]
    }
   ],
   "source": [
    "print(M.shape)"
   ]
  },
  {
   "cell_type": "code",
   "execution_count": 113,
   "metadata": {},
   "outputs": [
    {
     "name": "stdout",
     "output_type": "stream",
     "text": [
      "n =  100\n",
      "in_sample_idx =  [ 4  5  6  7  8  9 10 11 12 13 14 15 16 17 18 19 20 21 22 23 24 25 26 27\n",
      " 28 29 30 31 32 33 34 35 36 37 38 39 40 41 42 43 44 45 46 47 48 49 50 51\n",
      " 52 53 54 55 56 57 58 59 60 61 62 63 64 65 66 67 68 69 70 71 72 73 74 75\n",
      " 76 77 78 79 80 81 82 83 84 85 86 87 88 89 90 91 92 93 94 95]\n",
      "out_sample_idx =  [ 0  1  2  3 96 97 98 99]\n",
      "in_sample_A shape =  (92, 92)\n",
      "out_sample_A shape =  (8, 92)\n",
      "insmpl =  [ 4  5  6  7  8  9 10 11 12 13 14 15 16 17 18 19 20 21 22 23 24 25 26 27\n",
      " 28 29 30 31 32 33 34 35 36 37 38 39 40 41 42 43 44 45 46 47 48 49 50 51\n",
      " 52 53 54 55 56 57 58 59 60 61 62 63 64 65 66 67 68 69 70 71 72 73 74 75\n",
      " 76 77 78 79 80 81 82 83 84 85 86 87 88 89 90 91 92 93 94 95]\n",
      "outsmpl =  [ 0  1  2  3 96 97 98 99]\n",
      "5.3816027279054985\n"
     ]
    }
   ],
   "source": [
    "embding, insmpl, outsmpl = produce(M, np.array([0, 1, 2, 3, 96, 97, 98, 99]), max_dimension=2, n_in_sample=1000)\n",
    "\n",
    "print(\"insmpl = \", insmpl)\n",
    "print(\"outsmpl = \", outsmpl)\n",
    "R, sca = orthogonal_procrustes(embding[insmpl], latents[insmpl])\n",
    "print(sca)"
   ]
  },
  {
   "cell_type": "code",
   "execution_count": 114,
   "metadata": {},
   "outputs": [
    {
     "data": {
      "text/plain": [
       "array([[ 0.64797176,  0.76166436],\n",
       "       [ 0.76166436, -0.64797176]])"
      ]
     },
     "execution_count": 114,
     "metadata": {},
     "output_type": "execute_result"
    }
   ],
   "source": [
    "R"
   ]
  },
  {
   "cell_type": "code",
   "execution_count": null,
   "metadata": {},
   "outputs": [],
   "source": []
  },
  {
   "cell_type": "code",
   "execution_count": 38,
   "metadata": {},
   "outputs": [
    {
     "data": {
      "text/plain": [
       "array([], dtype=int64)"
      ]
     },
     "execution_count": 38,
     "metadata": {},
     "output_type": "execute_result"
    }
   ],
   "source": [
    "np.intersect1d(insmpl, outsmpl)"
   ]
  },
  {
   "cell_type": "code",
   "execution_count": null,
   "metadata": {},
   "outputs": [],
   "source": []
  },
  {
   "cell_type": "code",
   "execution_count": 115,
   "metadata": {
    "scrolled": true
   },
   "outputs": [
    {
     "data": {
      "text/plain": [
       "<matplotlib.collections.PathCollection at 0x7f9bdae11a90>"
      ]
     },
     "execution_count": 115,
     "metadata": {},
     "output_type": "execute_result"
    },
    {
     "data": {
      "image/png": "[encoded data removed]",
      "text/plain": [
       "<Figure size 432x288 with 1 Axes>"
      ]
     },
     "metadata": {
      "needs_background": "light"
     },
     "output_type": "display_data"
    }
   ],
   "source": [
    "plt.figure()\n",
    "in_sm_embd = embding[insmpl]\n",
    "os_sm_embd = embding[outsmpl] @ R\n",
    "classes = np.array(labels)\n",
    "\n",
    "in_sm_classes = classes[insmpl]\n",
    "os_sm_classes = classes[outsmpl]\n",
    "\n",
    "plt.scatter([x1[0]], [x1[1]], c = 'red', marker='o', s=75)\n",
    "plt.scatter([x2[0]], [x2[1]], c = 'blue', marker='o', s=75)\n",
    "\n",
    "plt.scatter(in_sm_embd[:, 0], in_sm_embd[:, 1], c=in_sm_classes, marker='o', s=25)\n",
    "plt.scatter(os_sm_embd[:, 0], os_sm_embd[:, 1], c=os_sm_classes, marker='x', s=25)"
   ]
  },
  {
   "cell_type": "code",
   "execution_count": 111,
   "metadata": {},
   "outputs": [
    {
     "data": {
      "text/plain": [
       "42"
      ]
     },
     "execution_count": 111,
     "metadata": {},
     "output_type": "execute_result"
    }
   ],
   "source": [
    "np.random.choice(100)"
   ]
  },
  {
   "cell_type": "markdown",
   "metadata": {},
   "source": [
    "# Recreation of Paper Figure"
   ]
  },
  {
   "cell_type": "code",
   "execution_count": 155,
   "metadata": {},
   "outputs": [],
   "source": [
    "num_trials = 100\n",
    "\n",
    "ptp_lst = []\n",
    "col_lst = []\n",
    "\n",
    "for nn in [50, 100, 500]:  \n",
    "    points_to_plot = []\n",
    "    colors = []\n",
    "    for ii in range(num_trials):\n",
    "\n",
    "\n",
    "        n=int(nn/2)\n",
    "        labels = [\"blue\"]*n + [\"red\"]*n\n",
    "        lamb = np.array([0.4, 1-.4])\n",
    "        x1 = np.array([.2, .7])\n",
    "        x2 = np.array([.65, .3])\n",
    "        latents = np.vstack((x1, x2))\n",
    "\n",
    "        latents = np.repeat(latents, n, axis=0)\n",
    "\n",
    "        M = rdpg(latents, directed=False)\n",
    "\n",
    "        oos_idx = np.random.choice(nn)\n",
    "\n",
    "        embding, insmpl, outsmpl = produce(M, np.array([oos_idx]), max_dimension=2, n_in_sample=1000)\n",
    "\n",
    "        R, sca = orthogonal_procrustes(embding[insmpl], latents[insmpl])\n",
    "\n",
    "        os_adj_embd = embding[outsmpl] @ R\n",
    "\n",
    "        points_to_plot.append(os_adj_embd)\n",
    "        colors.append(labels[oos_idx])\n",
    "\n",
    "    ptp_lst.append(points_to_plot)\n",
    "    col_lst.append(colors)\n",
    "    "
   ]
  },
  {
   "cell_type": "code",
   "execution_count": 171,
   "metadata": {},
   "outputs": [
    {
     "data": {
      "text/plain": [
       "<matplotlib.collections.PathCollection at 0x7f9bcc934310>"
      ]
     },
     "execution_count": 171,
     "metadata": {},
     "output_type": "execute_result"
    },
    {
     "data": {
      "image/png": "[encoded data removed]",
      "text/plain": [
       "<Figure size 432x288 with 1 Axes>"
      ]
     },
     "metadata": {
      "needs_background": "light"
     },
     "output_type": "display_data"
    }
   ],
   "source": [
    "points_to_plot = np.array(points_to_plot)\n",
    "plt.scatter(points_to_plot[:, 0, 0], points_to_plot[:, 0, 1], c=colors)"
   ]
  },
  {
   "cell_type": "code",
   "execution_count": 159,
   "metadata": {},
   "outputs": [],
   "source": [
    "for ii in range(len(ptp_lst)):\n",
    "    ptp_lst[ii] = np.array(ptp_lst[ii])"
   ]
  },
  {
   "cell_type": "code",
   "execution_count": 148,
   "metadata": {},
   "outputs": [
    {
     "data": {
      "text/plain": [
       "[(100, 1, 2), (100, 1, 2), (100, 1, 2)]"
      ]
     },
     "execution_count": 148,
     "metadata": {},
     "output_type": "execute_result"
    }
   ],
   "source": [
    "[ptp.shape for ptp in points_to_plot]"
   ]
  },
  {
   "cell_type": "code",
   "execution_count": 170,
   "metadata": {},
   "outputs": [
    {
     "data": {
      "text/plain": [
       "<matplotlib.collections.PathCollection at 0x7f9bcc880310>"
      ]
     },
     "execution_count": 170,
     "metadata": {},
     "output_type": "execute_result"
    },
    {
     "data": {
      "image/png": "[encoded data removed]",
      "text/plain": [
       "<Figure size 1080x360 with 3 Axes>"
      ]
     },
     "metadata": {
      "needs_background": "light"
     },
     "output_type": "display_data"
    }
   ],
   "source": [
    "plt.figure(figsize=(15, 5))\n",
    "\n",
    "plt.subplot(1, 3, 1)\n",
    "plt.title(\"n=50\")\n",
    "plt.scatter(ptp_lst[0][:, 0, 0], ptp_lst[0][:, 0, 1], c=col_lst[0], s=10)\n",
    "\n",
    "plt.subplot(1, 3, 2)\n",
    "plt.title(\"n=100\")\n",
    "plt.scatter(ptp_lst[1][:, 0, 0], ptp_lst[1][:, 0, 1], c=col_lst[1], s=10)\n",
    "\n",
    "plt.subplot(1, 3, 3)\n",
    "plt.title(\"n=500\")\n",
    "plt.scatter(ptp_lst[2][:, 0, 0], ptp_lst[2][:, 0, 1], c=col_lst[2], s=10)"
   ]
  },
  {
   "cell_type": "code",
   "execution_count": null,
   "metadata": {},
   "outputs": [],
   "source": []
  },
  {
   "cell_type": "code",
   "execution_count": null,
   "metadata": {},
   "outputs": [],
   "source": []
  }
 ],
 "metadata": {
  "kernelspec": {
   "display_name": "Python 3",
   "language": "python",
   "name": "python3"
  },
  "language_info": {
   "codemirror_mode": {
    "name": "ipython",
    "version": 3
   },
   "file_extension": ".py",
   "mimetype": "text/x-python",
   "name": "python",
   "nbconvert_exporter": "python",
   "pygments_lexer": "ipython3",
   "version": "3.7.6"
  }
 },
 "nbformat": 4,
 "nbformat_minor": 4
}
