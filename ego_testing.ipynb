{
 "cells": [
  {
   "cell_type": "code",
   "execution_count": 7,
   "metadata": {},
   "outputs": [],
   "source": [
    "import numpy as np\n",
    "import igraph\n",
    "from graspologic.plot import heatmap"
   ]
  },
  {
   "cell_type": "code",
   "execution_count": 2,
   "metadata": {},
   "outputs": [],
   "source": [
    "import numpy as np\n",
    "\n",
    "def ego_ind(graph_adj_matrix, order, node, mindist=1):\n",
    "    #Note all nodes are zero based in this implementation, i.e the first node is 0\n",
    "    dists = [[node]]\n",
    "    for ii in range(1, order+1):\n",
    "        clst = []\n",
    "        for nn in dists[-1]:\n",
    "            clst.extend(list(np.where(graph_adj_matrix[nn]==1)[0]))\n",
    "        clst = list(set(clst))\n",
    "\n",
    "        #Remove all the ones that are closer (i.e thtat have already been included)\n",
    "        dists_conglom = []\n",
    "        for dd in dists:\n",
    "            dists_conglom.extend(dd)\n",
    "        dists_conglom = list(set(dists_conglom))\n",
    "\n",
    "        cn_proc = []\n",
    "        for cn in clst:\n",
    "            if cn not in dists_conglom:\n",
    "                cn_proc.append(cn)\n",
    "\n",
    "        dists.append(cn_proc)\n",
    "    ress = []\n",
    "\n",
    "    for ii in range(mindist, order+1):\n",
    "        ress.extend(dists[ii])\n",
    "\n",
    "    return list(set(ress))\n",
    "\n",
    "def ego_list(graph_adj_matrix, order, node, mindist=1):\n",
    "    total_res = []\n",
    "    for nn in node:\n",
    "        ego_res = ego_ind(graph_adj_matrix, order, node, mindist=mindist)\n",
    "        total_res.extend(ego_res)\n",
    "    return list(set(total_res))\n",
    "\n",
    "def ego(graph_adj_matrix, order, node, mindist=1):\n",
    "    if type(node) == list:\n",
    "        return ego_list(graph_adj_matrix, order, node, mindist=mindist)\n",
    "    elif type(node) == int:\n",
    "        return ego_ind(graph_adj_matrix, order, node, mindist=mindist)\n",
    "    else:\n",
    "        print(\"Unsupported node datatype\")\n",
    "        return None"
   ]
  },
  {
   "cell_type": "code",
   "execution_count": 4,
   "metadata": {},
   "outputs": [],
   "source": [
    "igraph_obj = igraph.load(\"HSfbgraphcore.txt\", format=\"edges\")\n",
    "igraph_obj.to_undirected()"
   ]
  },
  {
   "cell_type": "code",
   "execution_count": 5,
   "metadata": {},
   "outputs": [],
   "source": [
    "adj_mat_igraph = igraph_obj.get_adjacency()\n",
    "adj_mat = np.array(adj_mat_igraph.data)"
   ]
  },
  {
   "cell_type": "code",
   "execution_count": 8,
   "metadata": {},
   "outputs": [
    {
     "data": {
      "text/plain": [
       "<matplotlib.axes._subplots.AxesSubplot at 0x7f9d114240d0>"
      ]
     },
     "execution_count": 8,
     "metadata": {},
     "output_type": "execute_result"
    },
    {
     "data": {
      "image/png": "[encoded data removed]",
      "text/plain": [
       "<Figure size 720x720 with 2 Axes>"
      ]
     },
     "metadata": {
      "needs_background": "light"
     },
     "output_type": "display_data"
    }
   ],
   "source": [
    "heatmap(adj_mat, title=\"Adjacency Matrix\")"
   ]
  },
  {
   "cell_type": "code",
   "execution_count": 10,
   "metadata": {},
   "outputs": [
    {
     "data": {
      "text/plain": [
       "[9,\n",
       " 14,\n",
       " 29,\n",
       " 32,\n",
       " 36,\n",
       " 38,\n",
       " 43,\n",
       " 46,\n",
       " 49,\n",
       " 52,\n",
       " 53,\n",
       " 55,\n",
       " 56,\n",
       " 60,\n",
       " 61,\n",
       " 62,\n",
       " 63,\n",
       " 65,\n",
       " 66,\n",
       " 67,\n",
       " 69,\n",
       " 71,\n",
       " 75,\n",
       " 80]"
      ]
     },
     "execution_count": 10,
     "metadata": {},
     "output_type": "execute_result"
    }
   ],
   "source": [
    "ego(adj_mat, 2, 30)"
   ]
  },
  {
   "cell_type": "code",
   "execution_count": null,
   "metadata": {},
   "outputs": [],
   "source": []
  }
 ],
 "metadata": {
  "kernelspec": {
   "display_name": "Python 3",
   "language": "python",
   "name": "python3"
  },
  "language_info": {
   "codemirror_mode": {
    "name": "ipython",
    "version": 3
   },
   "file_extension": ".py",
   "mimetype": "text/x-python",
   "name": "python",
   "nbconvert_exporter": "python",
   "pygments_lexer": "ipython3",
   "version": "3.7.6"
  }
 },
 "nbformat": 4,
 "nbformat_minor": 4
}
