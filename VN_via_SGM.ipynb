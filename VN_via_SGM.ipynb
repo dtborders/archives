{
 "cells": [
  {
   "cell_type": "code",
   "execution_count": 1,
   "metadata": {},
   "outputs": [],
   "source": [
    "import numpy as np"
   ]
  },
  {
   "cell_type": "code",
   "execution_count": 260,
   "metadata": {},
   "outputs": [],
   "source": [
    "def sgm(A, B, seeds, hard=True, pad=0, start='barycenter', maxiter=20):\n",
    "    gamma = 0.1\n",
    "    nv1 = A.shape[0]\n",
    "    nv2 = B.shape[0]\n",
    "    nv = max(nv1, nv2)\n",
    "    \n",
    "    if (seeds is None):\n",
    "        m = 0\n",
    "        if start == 'barycenter':\n",
    "            S = np.full((nv, nv), 1/float(nv))\n",
    "        else:\n",
    "            return None #Implement rsp function later\n",
    "        AA = A\n",
    "        BB = B\n",
    "    else:\n",
    "        A_ind = np.concatenate((seeds[:, 0], np.arange(nv1)))\n",
    "        B_ind = np.concatenate((seeds[:, 1], np.arange(nv2)))\n",
    "        AA = A[A_ind, A_ind] #Unsure if this is correct\n",
    "        BB = B[B_ind, B_ind]\n",
    "        \n",
    "        m = seeds.shape[0]\n",
    "        \n",
    "        if (hard):\n",
    "            n = nv - m\n",
    "            if start == 'barycenter':\n",
    "                S = np.full((n, n), 1/float(n))\n",
    "            else:\n",
    "                return None #Implement rsp function later\n",
    "        else:\n",
    "            s = m\n",
    "            m = 0\n",
    "            if start == 'barycenter':\n",
    "                diag1 = np.identity(s)\n",
    "                diag2 = np.full((nv-s, nv-s), 1/float(nv-s))\n",
    "                offdiag = np.full((0, s), nv-s)\n",
    "                S = np.concatenate((np.concatenate((diag1,offdiag), axis=1), np.concatenate((np.transpose(offdiag),diag2), axis=1)), axis=0)\n",
    "            else:\n",
    "                return None #Implement this functionality later\n",
    "        \n",
    "    return sgm_ordered(AA, BB,m,S,pad,maxiter)\n",
    "\n",
    "def sgm_ordered(A,B,m,start,pad=0,maxiter=20,LAP=\"exact\",verbose=False):\n",
    "    \n",
    "    totv1 = A.shape[1]\n",
    "    totv2 = B.shape[1]\n",
    "    \n",
    "    A[A==0] = -1\n",
    "    B[B==0] = -1\n",
    "    if (totv1>totv2):\n",
    "        diff = totv1-totv2\n",
    "        B = np.concatenate((B, np.full((B.shape[0], diff), pad)), axis=1)\n",
    "        B = np.concatenate((B, np.full((diff, B.shape[1]), pad)), axis=0)\n",
    "    elif (totv1<totv2):\n",
    "        diff = totv2-totv1\n",
    "        A = np.concatenate((A, np.full((A.shape[0], diff), pad)), axis=1)\n",
    "        A = np.concatenate((A, np.full((diff, A.shape[1]), pad)), axis=0)\n",
    "        \n",
    "    totv = max(totv1,totv2)\n",
    "    \n",
    "    n = totv-m\n",
    "    \n",
    "    if m == 0:\n",
    "        A12 = np.zeros((n, n)); A21 = np.zeros((n, n)); B12 = np.zeros((n, n)); B21 = np.zeros((n, n))\n",
    "    else:\n",
    "        A12 = A[0:m,m:(m+n)]\n",
    "        A21 = A[m:(m+n),0:m]\n",
    "        B12 = B[0:m,m:(m+n)]\n",
    "        B21 = B[m:(m+n),0:m]\n",
    "        \n",
    "    if n == 1:\n",
    "        A12 = A21 = B12 = B21 = np.transpose(A12)\n",
    "        \n",
    "    A22 = A[m:(m+n),m:(m+n)]\n",
    "    tA22 = np.transpose(A22)\n",
    "    \n",
    "    B22 = B[m:(m+n),m:(m+n)]\n",
    "    tB22 = np.transpose(B22)\n",
    "        \n",
    "        \n",
    "        \n",
    "        "
   ]
  },
  {
   "cell_type": "code",
   "execution_count": 256,
   "metadata": {},
   "outputs": [
    {
     "data": {
      "text/plain": [
       "array([[0.26681073, 0.14775445, 0.58687843, 0.42907662, 0.19824784],\n",
       "       [0.94750053, 0.25385073, 0.51414579, 0.41209133, 0.9596322 ],\n",
       "       [0.05956759, 0.67926586, 0.45137383, 0.03395134, 0.1036511 ],\n",
       "       [0.20370854, 0.99406509, 0.98966643, 0.91154615, 0.40031886],\n",
       "       [0.82331732, 0.10719204, 0.97951125, 0.79499309, 0.16590546]])"
      ]
     },
     "execution_count": 256,
     "metadata": {},
     "output_type": "execute_result"
    }
   ],
   "source": [
    "randm = np.random.random((5, 5))\n",
    "randm"
   ]
  },
  {
   "cell_type": "code",
   "execution_count": 262,
   "metadata": {},
   "outputs": [
    {
     "data": {
      "text/plain": [
       "True"
      ]
     },
     "execution_count": 262,
     "metadata": {},
     "output_type": "execute_result"
    }
   ],
   "source": [
    "type(list([1,2,3,4]))==list"
   ]
  },
  {
   "cell_type": "code",
   "execution_count": 25,
   "metadata": {
    "collapsed": true
   },
   "outputs": [
    {
     "name": "stdout",
     "output_type": "stream",
     "text": [
      "AA =  [0.18272557 0.74851707 0.32991428 0.18272557 0.42599817 0.74851707\n",
      " 0.57432066 0.10577907 0.2773486  0.9240651  0.0656926  0.8091811\n",
      " 0.97706332 0.48025252 0.91624349 0.06578768 0.13546645]\n",
      "BB =  [0.57212234 0.05597675 0.86553309 0.63599288 0.57212234 0.57280748\n",
      " 0.05597675 0.15055442 0.61962477 0.40201633 0.81304293 0.1558302\n",
      " 0.90683199 0.82136081 0.18635702 0.94172814 0.4332612 ]\n",
      "m =  2\n",
      "S =  [[0.07692308 0.07692308 0.07692308 0.07692308 0.07692308 0.07692308\n",
      "  0.07692308 0.07692308 0.07692308 0.07692308 0.07692308 0.07692308\n",
      "  0.07692308]\n",
      " [0.07692308 0.07692308 0.07692308 0.07692308 0.07692308 0.07692308\n",
      "  0.07692308 0.07692308 0.07692308 0.07692308 0.07692308 0.07692308\n",
      "  0.07692308]\n",
      " [0.07692308 0.07692308 0.07692308 0.07692308 0.07692308 0.07692308\n",
      "  0.07692308 0.07692308 0.07692308 0.07692308 0.07692308 0.07692308\n",
      "  0.07692308]\n",
      " [0.07692308 0.07692308 0.07692308 0.07692308 0.07692308 0.07692308\n",
      "  0.07692308 0.07692308 0.07692308 0.07692308 0.07692308 0.07692308\n",
      "  0.07692308]\n",
      " [0.07692308 0.07692308 0.07692308 0.07692308 0.07692308 0.07692308\n",
      "  0.07692308 0.07692308 0.07692308 0.07692308 0.07692308 0.07692308\n",
      "  0.07692308]\n",
      " [0.07692308 0.07692308 0.07692308 0.07692308 0.07692308 0.07692308\n",
      "  0.07692308 0.07692308 0.07692308 0.07692308 0.07692308 0.07692308\n",
      "  0.07692308]\n",
      " [0.07692308 0.07692308 0.07692308 0.07692308 0.07692308 0.07692308\n",
      "  0.07692308 0.07692308 0.07692308 0.07692308 0.07692308 0.07692308\n",
      "  0.07692308]\n",
      " [0.07692308 0.07692308 0.07692308 0.07692308 0.07692308 0.07692308\n",
      "  0.07692308 0.07692308 0.07692308 0.07692308 0.07692308 0.07692308\n",
      "  0.07692308]\n",
      " [0.07692308 0.07692308 0.07692308 0.07692308 0.07692308 0.07692308\n",
      "  0.07692308 0.07692308 0.07692308 0.07692308 0.07692308 0.07692308\n",
      "  0.07692308]\n",
      " [0.07692308 0.07692308 0.07692308 0.07692308 0.07692308 0.07692308\n",
      "  0.07692308 0.07692308 0.07692308 0.07692308 0.07692308 0.07692308\n",
      "  0.07692308]\n",
      " [0.07692308 0.07692308 0.07692308 0.07692308 0.07692308 0.07692308\n",
      "  0.07692308 0.07692308 0.07692308 0.07692308 0.07692308 0.07692308\n",
      "  0.07692308]\n",
      " [0.07692308 0.07692308 0.07692308 0.07692308 0.07692308 0.07692308\n",
      "  0.07692308 0.07692308 0.07692308 0.07692308 0.07692308 0.07692308\n",
      "  0.07692308]\n",
      " [0.07692308 0.07692308 0.07692308 0.07692308 0.07692308 0.07692308\n",
      "  0.07692308 0.07692308 0.07692308 0.07692308 0.07692308 0.07692308\n",
      "  0.07692308]]\n",
      "pad =  0\n",
      "maxiter =  20\n"
     ]
    }
   ],
   "source": [
    "A = np.random.rand(15, 15)\n",
    "B = np.random.rand(15, 15)\n",
    "C = np.array([[1,2], [3,4]])\n",
    "AA, BB, m, S, pad, maxiter = sgm(A, B, C)\n",
    "print(\"AA = \", AA)\n",
    "print(\"BB = \", BB)\n",
    "print(\"m = \", m)\n",
    "print(\"S = \", S)\n",
    "print(\"pad = \", pad)\n",
    "print(\"maxiter = \", maxiter)\n"
   ]
  },
  {
   "cell_type": "code",
   "execution_count": null,
   "metadata": {},
   "outputs": [],
   "source": []
  },
  {
   "cell_type": "code",
   "execution_count": null,
   "metadata": {},
   "outputs": [],
   "source": [
    "# parameters for finding seeds\n",
    "s = 4 # number of seeds to be used for SGM h <- ell <- 1 # max walk for finding neighborhoods\n",
    "# parameters for SGM\n",
    "R = 100 # repeat SGM R times to get averaged P matrix\n",
    "gamma = 0.1 # number of iterations for the Frank-Wolfe algorithm\n",
    "mc = 2\n",
    "\n",
    "m = 5 #|J|=junkonG1\n",
    "n = 20 # |W| = shared vertices on G1, not including x and S mp <- 0 # |J'| = junk on G2\n",
    "d = 5 # for RDPG, dimension of the random vectors\n",
    "corr = 0.5 # for correlated graphs\n",
    "\n",
    "nV1 <- 1+s+n+m\n",
    "nV2 <- 1+s+n+mp"
   ]
  },
  {
   "cell_type": "markdown",
   "metadata": {},
   "source": [
    "# Try 2\n",
    "\n",
    "Generate figure 6 from the figure becasue this implementation of the alg looks simplist"
   ]
  },
  {
   "cell_type": "code",
   "execution_count": 57,
   "metadata": {},
   "outputs": [
    {
     "name": "stdout",
     "output_type": "stream",
     "text": [
      "VN_via_SGM.ipynb fig6_data.npy    g_tst.txt\r\n"
     ]
    }
   ],
   "source": [
    "import numpy as np\n",
    "from graspologic.plot import heatmap\n",
    "import igraph\n",
    "!ls"
   ]
  },
  {
   "cell_type": "code",
   "execution_count": 52,
   "metadata": {},
   "outputs": [
    {
     "data": {
      "text/plain": [
       "<matplotlib.axes._subplots.AxesSubplot at 0x7fb50f4d4310>"
      ]
     },
     "execution_count": 52,
     "metadata": {},
     "output_type": "execute_result"
    },
    {
     "data": {
      "image/png": "[encoded data removed]",
      "text/plain": [
       "<Figure size 720x720 with 2 Axes>"
      ]
     },
     "metadata": {
      "needs_background": "light"
     },
     "output_type": "display_data"
    }
   ],
   "source": [
    "adj_matrix = np.load(\"fig6_data.npy\")\n",
    "heatmap(adj_matrix, title=\"Bijection between friend networks\")"
   ]
  },
  {
   "cell_type": "code",
   "execution_count": 163,
   "metadata": {},
   "outputs": [],
   "source": [
    "def permute_adj_matrix(adj_mat):\n",
    "    assert adj_mat.shape[0] == adj_mat.shape[1]\n",
    "    indexs = np.random.permutation(np.arange(adj_mat.shape[0]))\n",
    "    ress = np.zeros(adj_mat.shape)\n",
    "    for ii, ind in enumerate(indexs):\n",
    "        ress[ii] = adj_mat[ind][indexs]\n",
    "    return ress, indexs"
   ]
  },
  {
   "cell_type": "code",
   "execution_count": 56,
   "metadata": {},
   "outputs": [
    {
     "data": {
      "text/plain": [
       "<matplotlib.axes._subplots.AxesSubplot at 0x7fb50f75b0d0>"
      ]
     },
     "execution_count": 56,
     "metadata": {},
     "output_type": "execute_result"
    },
    {
     "data": {
      "image/png": "[encoded data removed]",
      "text/plain": [
       "<Figure size 720x720 with 2 Axes>"
      ]
     },
     "metadata": {
      "needs_background": "light"
     },
     "output_type": "display_data"
    }
   ],
   "source": [
    "adj_perm = permute_adj_matrix(adj_matrix)\n",
    "heatmap(adj_perm, title=\"Bijection between friend networks, perm\")"
   ]
  },
  {
   "cell_type": "markdown",
   "metadata": {},
   "source": [
    "# Reproduce igraph's ego function from R"
   ]
  },
  {
   "cell_type": "code",
   "execution_count": 234,
   "metadata": {},
   "outputs": [],
   "source": [
    "def ego(graph_adj_matrix, order, node, mindist=1):\n",
    "    #Note all nodes are zero based in this implementation, i.e the first node is 0\n",
    "    dists = [[node]]\n",
    "    for ii in range(1, order+1):\n",
    "        clst = []\n",
    "        for nn in dists[-1]:\n",
    "            clst.extend(list(np.where(graph_adj_matrix[nn]==1)[0]))\n",
    "        clst = list(set(clst))\n",
    "        \n",
    "        #Remove all the ones that are closer (i.e thtat have already been included)\n",
    "        dists_conglom = []\n",
    "        for dd in dists:\n",
    "            dists_conglom.extend(dd)\n",
    "        dists_conglom = list(set(dists_conglom))\n",
    "        \n",
    "        cn_proc = []\n",
    "        for cn in clst:\n",
    "            if cn not in dists_conglom:\n",
    "                cn_proc.append(cn)\n",
    "        \n",
    "        dists.append(cn_proc)\n",
    "    ress = []\n",
    "        \n",
    "    for ii in range(mindist, order+1):\n",
    "        ress.extend(dists[ii])\n",
    "        \n",
    "    return list(set(ress))  \n",
    "\n",
    "def ego_list(graph_adj_matrix, order, node, mindist=1):\n",
    "    total_res = []\n",
    "    for nn in node:\n",
    "        ego_res = ego(graph_adj_matrix, order, node, mindist=1)\n",
    "        total_res.extend(ego_res)\n",
    "    return list(set(total_res))"
   ]
  },
  {
   "cell_type": "code",
   "execution_count": 138,
   "metadata": {},
   "outputs": [],
   "source": [
    "igraph_obj = igraph.load(\"HSfbgraphcore.txt\", format=\"edges\")\n",
    "igraph_obj.to_undirected()"
   ]
  },
  {
   "cell_type": "code",
   "execution_count": 144,
   "metadata": {},
   "outputs": [
    {
     "name": "stdout",
     "output_type": "stream",
     "text": [
      "is_directed =  False\n",
      "(Num predicted/Num Expected) =  (47, 47)\n",
      "(Predicted/Expected):  [(1, 1), (2, 2), (5, 5), (6, 6), (7, 7), (8, 8), (9, 9), (10, 10), (11, 11), (12, 12), (13, 13), (14, 14), (16, 16), (17, 17), (21, 21), (22, 22), (23, 23), (24, 24), (25, 25), (26, 26), (28, 28), (29, 29), (32, 32), (34, 34), (35, 35), (36, 36), (39, 39), (40, 40), (41, 41), (42, 42), (43, 43), (45, 45), (46, 46), (48, 48), (49, 49), (51, 51), (55, 55), (59, 59), (60, 60), (63, 63), (65, 65), (69, 69), (71, 71), (74, 74), (75, 75), (77, 77), (81, 81)]\n"
     ]
    },
    {
     "data": {
      "image/png": "[encoded data removed]",
      "text/plain": [
       "<Figure size 720x720 with 2 Axes>"
      ]
     },
     "metadata": {
      "needs_background": "light"
     },
     "output_type": "display_data"
    }
   ],
   "source": [
    "print(\"is_directed = \", igraph_obj.is_directed())\n",
    "adj_mat_igraph = igraph_obj.get_adjacency()\n",
    "nparr = np.array(adj_mat_igraph.data)\n",
    "\n",
    "heatmap(nparr, title=\"Bijection between friend networks, perm\")\n",
    "egores = ego(nparr, 2, 26, mindist = 1)\n",
    "egores.sort()\n",
    "\n",
    "\n",
    "# Copy and pasted R output from calling ego on HSfbgraphcore\n",
    "r_output = [1, 2, 5, 6, 7, 8, 9, 10, 11, 12, 13, 14, 16, 17, 21, 22, 23, 24, 25, 26, 28, 29, 32, 34, 35, 36, 39, 40, 41, 42, 43, 45, 46, 48, 49, 51, 55, 59, 60, 63, 65, 69, 71, 74, 75, 77, 81]\n",
    "r_output.sort()\n",
    "\n",
    "#Print outputs\n",
    "print(\"(Num predicted/Num Expected) = \", (len(egores), len(r_output)))\n",
    "print(\"(Predicted/Expected): \", [(ii, jj) for ii, jj in zip([eg + 1 for eg in egores], r_output)]) #Add one to match Rs 1s based language (0 based in my imp)"
   ]
  },
  {
   "cell_type": "markdown",
   "metadata": {},
   "source": [
    "# Try the vertex nomination alg "
   ]
  },
  {
   "cell_type": "code",
   "execution_count": 238,
   "metadata": {},
   "outputs": [],
   "source": [
    "import matplotlib.pyplot as plt\n",
    "import random"
   ]
  },
  {
   "cell_type": "code",
   "execution_count": 241,
   "metadata": {},
   "outputs": [],
   "source": [
    "def shuffle_adj_matrix(adj_mat, shuffle_lst):\n",
    "    assert adj_mat.shape[0] == adj_mat.shape[1]\n",
    "    ress = np.zeros((len(shuffle_lst), len(shuffle_lst)))\n",
    "    for ii, ind in enumerate(shuffle_lst):\n",
    "        ress[ii] = adj_mat[ind][shuffle_lst]\n",
    "    return ress\n",
    "\n",
    "def vnsgm(x, seeds, A, B, h, ell, R, g, pad=0, sim=False, verb=False, plotF=False):\n",
    "    '''\n",
    "    Parameters\n",
    "    ----------\n",
    "    \n",
    "    x: int or ndarray\n",
    "        verticies of interest (voi)\n",
    "    \n",
    "    seeds: ndarray\n",
    "        seeds vector\n",
    "        \n",
    "    A: ndarray\n",
    "        Adjacency matrix of `G_1`, the graph where voi is known\n",
    "        \n",
    "    B: ndarray\n",
    "        Adjacency matrix of `G_2`, the graph where voi is not known\n",
    "        \n",
    "    h: int\n",
    "        distance between voi used to create induced subgraph on `G_1`\n",
    "        \n",
    "    ell: int \n",
    "        distance from seeds to other verts to create induced subgraphs on `G_1`\n",
    "        \n",
    "    R: int \n",
    "        number of restarts\n",
    "    \n",
    "    g: float\n",
    "        gamma to be used, max tol for alpha, tollerable dist from barycenter\n",
    "        \n",
    "    \n",
    "    \n",
    "    '''\n",
    "    \n",
    "    nv1 = A.shape[0]\n",
    "    nv2 = A.shape[0]\n",
    "    \n",
    "    nv = max(nv1, nv2)\n",
    "    \n",
    "    nsx1 = set(range(nv1)).difference(set([seeds[0], x]))\n",
    "    \n",
    "    vec = [seeds[0], x]; vec.extend(nsx1)\n",
    "    \n",
    "    AA = shuffle_adj_matrix(A, vec)\n",
    "#     print(AA[:, -10:])\n",
    "\n",
    "\n",
    "    ns2 = set(range(nv2)).difference(set([seeds[1]])) # <- setdiff(1:nv2,seeds[,2])\n",
    "    vec2 = [seeds[1]]; vec2.extend(ns2) # <- c(seeds[,2],ns2)\n",
    "    print(vec2)\n",
    "    \n",
    "#     print(B[:, -10:])\n",
    "\n",
    "    BB = shuffle_adj_matrix(B, vec2)\n",
    "#     print(BB[:, -10:])\n",
    "\n",
    "    nrow_seeds = seeds.shape[0]\n",
    "\n",
    "    S = list(range(nrow_seeds))\n",
    "    \n",
    "    voi <- list(range(nrow_seeds, nrow_seeds+2))\n",
    "    \n",
    "    P <- vnsgm_ordered(voi,S,AA,BB,h,ell,R,g,pad=pad,sim=sim,verb=verb,plotF=plotF)\n",
    "    \n",
    "    return P\n",
    "\n",
    "def vnsgm_ordered(x,S,A,B,h,ell,R,g,pad=0,sim=True,verb=False,plotF=False):\n",
    "    '''\n",
    "    Parameters\n",
    "    ----------\n",
    "    \n",
    "    x: list \n",
    "        Verticies of intrerest\n",
    "        \n",
    "    S: list\n",
    "        Vector of seeds\n",
    "        \n",
    "    A: ndarray\n",
    "        `G_1` where voi are known\n",
    "    \n",
    "    B: ndarray\n",
    "        `G_2` where voi unknown\n",
    "        \n",
    "    rest same as before\n",
    "    '''\n",
    "    s = len(S)\n",
    "    \n",
    "    Nh = ego_list(A, h, x, mindist=1) # TODO: make able to take a list in <- unlist(ego(g1,h,nodes=x,mindist=1))\n",
    "    \n",
    "    Sx1 = None; Sx2 = None\n",
    "    \n",
    "    Sx1 = list(set(Nh).intersection(set(S))); Sx1.sort(); sx = len(Sx1)\n",
    "    \n",
    "    Sx2 = list(set(list(range(B.shape[0]))).intersection(set(Sx1))); Sx2.sort(); sx2 = len(Sx2)\n",
    "               \n",
    "    case = 'possible' if sx2>0 else 'impossible'\n",
    "    \n",
    "    if case == 'possible':\n",
    "        Cx2 = ego_list(B, ell, Sx2, mindist=1)\n",
    "        Cx2 = set(Cx2).difference(set(Sx2))\n",
    "        \n",
    "        if sim:\n",
    "            case = np.array(['possible' if _x in Cx2 else 'impossible' for _x in x])\n",
    "        \n",
    "        if len(np.where(case == 'possible')[0])>0:\n",
    "            Nx1 = ego_list(A, ell, Sx1, mindist=0)\n",
    "            Nx2 = ego_list(B, ell, Sx2, mindist=0)\n",
    "            \n",
    "            if sim:\n",
    "                wxp = np.where(case == 'possible')[0]\n",
    "                xp = x[wxp]\n",
    "                \n",
    "                foo = Sx1; foo.extend(xp)\n",
    "                ind1 <- Sx1; ind1.extend(x); ind1.extend(set(Nx1).difference(set(foo)))\n",
    "                \n",
    "                foo = Sx2; foo.extend(xp)\n",
    "                ind2 = Sx2; ind2.extend(xp); ind2.extend(set(Nx2).difference(set(foo)))\n",
    "            else:\n",
    "                foo = Sx1; foo.extend(x)\n",
    "                ind1 = Sx1; ind1.extend(x); ind1.extend(set(Nx1).difference(set(foo))) \n",
    "                \n",
    "                ind2 = Sx2; ind2.extend(set(Nx2).difference(set(Sx2)))\n",
    "                \n",
    "            if verb:\n",
    "                print(\"seed = \", Sx1, \", matching \", ind1, \" and \", ind2)\n",
    "                \n",
    "            n_iters = 20\n",
    "            A_s = shuffle_adj_matrix(A, ind1)\n",
    "            B_s = shuffle_adj_matrix(B, ind2)\n",
    "            P = multistart_sgm(A, B, R, len(Sx1), g, pad=pad, n_iters=n_iters)\n",
    "                \n",
    "                \n",
    "    else:\n",
    "        return None\n",
    "            \n",
    "\n",
    "def sgm(A,B,seeds,hard=TRUE,pad=0,start=\"barycenter\",maxiter=20):\n",
    "    gamma = .1\n",
    "    nv1=A.shape[0]\n",
    "    nv2=B.shape[0]\n",
    "    nv \n",
    "               \n",
    "                \n",
    "def multistart_sgm(A,B,R,s,g,pad=0,n_iters=20):\n",
    "    n = max(A.shape[0], B.shape[0])\n",
    "    P = np.zeros((n, n))\n",
    "    \n",
    "    for i in range(R):\n",
    "        M = rsp(n-s, g)\n",
    "        \n",
    "        \n",
    "def rsp(n, g):\n",
    "    '''\n",
    "    n: int\n",
    "        dim of output\n",
    "        \n",
    "    g: float\n",
    "        between 0, 1 upper bound for step `alpha`\n",
    "    '''\n",
    "    s = np.random.choice(list(range(n)))\n",
    "    I = np.identity(n)\n",
    "    \n",
    "    P = I[s]\n",
    "    alpha = np.random.uniform(low=0, high=g)\n",
    "    \n",
    "    J = np.ones((n, n))\n",
    "    \n",
    "    bc = (1/n)*J\n",
    "    \n",
    "    return np.transpose((1-alpha)*bc+alpha*P)\n",
    "    \n",
    "    \n",
    "    \n",
    "    \n",
    "    "
   ]
  },
  {
   "cell_type": "code",
   "execution_count": null,
   "metadata": {},
   "outputs": [],
   "source": [
    "\n",
    "\n"
   ]
  },
  {
   "cell_type": "code",
   "execution_count": 149,
   "metadata": {},
   "outputs": [],
   "source": [
    "#define the parameters for the optimization\n",
    "hhop = 2\n",
    "ell = 2\n",
    "g = 0.1\n",
    "R = 50\n",
    "n_iter = 20\n",
    "voi = 27"
   ]
  },
  {
   "cell_type": "code",
   "execution_count": 155,
   "metadata": {},
   "outputs": [],
   "source": [
    "HSfrgraphcore = igraph.load(\"HSfrgraphcore.txt\", format=\"edges\")\n",
    "HSfrgraphcore.to_undirected()"
   ]
  },
  {
   "cell_type": "code",
   "execution_count": 164,
   "metadata": {},
   "outputs": [
    {
     "name": "stdout",
     "output_type": "stream",
     "text": [
      "(82, 82) <class 'numpy.ndarray'>\n"
     ]
    }
   ],
   "source": [
    "adj2a = np.array(HSfrgraphcore.get_adjacency().data)\n",
    "print(adj2a.shape, type(adj2a))\n",
    "\n",
    "adj2, perm2  = permute_adj_matrix(adj2a)"
   ]
  },
  {
   "cell_type": "code",
   "execution_count": 165,
   "metadata": {
    "collapsed": true
   },
   "outputs": [
    {
     "data": {
      "text/plain": [
       "<matplotlib.axes._subplots.AxesSubplot at 0x7fb5102fac10>"
      ]
     },
     "execution_count": 165,
     "metadata": {},
     "output_type": "execute_result"
    },
    {
     "data": {
      "image/png": "[encoded data removed]",
      "text/plain": [
       "<Figure size 720x720 with 2 Axes>"
      ]
     },
     "metadata": {
      "needs_background": "light"
     },
     "output_type": "display_data"
    }
   ],
   "source": [
    "heatmap(adj2a, title=\"Og adj matrix\")"
   ]
  },
  {
   "cell_type": "code",
   "execution_count": 166,
   "metadata": {
    "collapsed": true
   },
   "outputs": [
    {
     "data": {
      "text/plain": [
       "<matplotlib.axes._subplots.AxesSubplot at 0x7fb511faf5d0>"
      ]
     },
     "execution_count": 166,
     "metadata": {},
     "output_type": "execute_result"
    },
    {
     "data": {
      "image/png": "[encoded data removed]",
      "text/plain": [
       "<Figure size 720x720 with 2 Axes>"
      ]
     },
     "metadata": {
      "needs_background": "light"
     },
     "output_type": "display_data"
    }
   ],
   "source": [
    "heatmap(adj2, title=\"Perm adj matrix\")"
   ]
  },
  {
   "cell_type": "code",
   "execution_count": 179,
   "metadata": {},
   "outputs": [],
   "source": [
    "mmp = np.transpose(np.arange(adj2.shape[0]))\n",
    "mmp = np.transpose(np.stack((mmp, perm2)))\n",
    "\n",
    "mmp2 = np.transpose(np.arange(adj2.shape[0]))\n",
    "mmp2 = np.transpose(np.stack((perm2, mmp2)))"
   ]
  },
  {
   "cell_type": "code",
   "execution_count": 189,
   "metadata": {},
   "outputs": [],
   "source": [
    "sp = [(ii, jj) for ii, jj in zip(perm2, list(range(adj2.shape[0])))]\n",
    "sp.sort(key = lambda x: x[0])\n",
    "sp = np.array(sp)"
   ]
  },
  {
   "cell_type": "code",
   "execution_count": 190,
   "metadata": {},
   "outputs": [],
   "source": [
    "map2sort = mmp2[sp[:,1]]"
   ]
  },
  {
   "cell_type": "code",
   "execution_count": 198,
   "metadata": {},
   "outputs": [],
   "source": [
    "P = np.diag(list(range(1, adj2.shape[0]+1)))[perm2]-1"
   ]
  },
  {
   "cell_type": "code",
   "execution_count": 231,
   "metadata": {
    "collapsed": true
   },
   "outputs": [
    {
     "name": "stdout",
     "output_type": "stream",
     "text": [
      "[1 4]\n",
      "[4, 0, 1, 2, 3, 5, 6, 7, 8, 9, 10, 11, 12, 13, 14, 15, 16, 17, 18, 19, 20, 21, 22, 23, 24, 25, 26, 27, 28, 29, 30, 31, 32, 33, 34, 35, 36, 37, 38, 39, 40, 41, 42, 43, 44, 45, 46, 47, 48, 49, 50, 51, 52, 53, 54, 55, 56, 57, 58, 59, 60, 61, 62, 63, 64, 65, 66, 67, 68, 69, 70, 71, 72, 73, 74, 75, 76, 77, 78, 79, 80, 81]\n",
      "[[0. 0. 0. 0. 0. 0. 0. 0. 0. 0.]\n",
      " [0. 0. 0. 0. 0. 0. 0. 0. 0. 0.]\n",
      " [0. 0. 0. 0. 0. 0. 0. 0. 0. 0.]\n",
      " [0. 0. 0. 0. 0. 0. 0. 0. 0. 0.]\n",
      " [0. 0. 0. 0. 0. 0. 0. 0. 0. 0.]\n",
      " [0. 0. 0. 0. 0. 0. 0. 0. 0. 0.]\n",
      " [0. 0. 0. 0. 0. 0. 0. 0. 0. 0.]\n",
      " [0. 0. 0. 0. 0. 0. 0. 0. 0. 0.]\n",
      " [1. 0. 0. 0. 0. 0. 0. 0. 0. 0.]\n",
      " [0. 0. 0. 0. 0. 0. 0. 0. 0. 0.]\n",
      " [1. 0. 0. 0. 1. 0. 0. 0. 0. 0.]\n",
      " [0. 0. 0. 0. 0. 0. 0. 0. 0. 0.]\n",
      " [0. 0. 0. 0. 0. 0. 0. 1. 0. 0.]\n",
      " [0. 0. 0. 0. 0. 0. 0. 0. 0. 0.]\n",
      " [0. 0. 0. 1. 0. 0. 0. 0. 1. 0.]\n",
      " [0. 0. 0. 0. 0. 0. 0. 0. 0. 0.]\n",
      " [0. 0. 0. 0. 0. 0. 0. 0. 0. 0.]\n",
      " [0. 0. 0. 0. 0. 0. 0. 0. 0. 0.]\n",
      " [0. 0. 0. 0. 0. 0. 0. 1. 0. 0.]\n",
      " [0. 0. 0. 0. 0. 0. 0. 0. 0. 0.]\n",
      " [0. 0. 0. 0. 0. 0. 0. 0. 0. 0.]\n",
      " [0. 0. 0. 0. 0. 0. 0. 0. 0. 0.]\n",
      " [0. 0. 0. 0. 1. 0. 0. 0. 0. 0.]\n",
      " [0. 0. 0. 0. 0. 0. 0. 1. 0. 1.]\n",
      " [0. 0. 0. 0. 0. 0. 0. 0. 0. 0.]\n",
      " [0. 0. 0. 0. 0. 0. 0. 0. 0. 0.]\n",
      " [0. 0. 0. 0. 0. 0. 0. 0. 0. 0.]\n",
      " [0. 0. 0. 0. 0. 0. 0. 0. 0. 0.]\n",
      " [0. 0. 0. 0. 0. 1. 0. 0. 0. 0.]\n",
      " [0. 0. 0. 0. 0. 0. 0. 0. 0. 0.]\n",
      " [0. 0. 0. 0. 0. 1. 0. 0. 0. 0.]\n",
      " [0. 0. 0. 1. 0. 0. 0. 0. 1. 0.]\n",
      " [0. 0. 0. 0. 0. 0. 0. 0. 0. 0.]\n",
      " [0. 0. 0. 0. 0. 0. 0. 0. 0. 0.]\n",
      " [0. 0. 0. 0. 0. 0. 0. 0. 0. 0.]\n",
      " [0. 0. 0. 0. 0. 0. 0. 0. 0. 0.]\n",
      " [0. 1. 0. 0. 0. 0. 0. 0. 0. 0.]\n",
      " [0. 0. 0. 1. 0. 0. 1. 0. 0. 0.]\n",
      " [0. 0. 0. 0. 0. 0. 0. 0. 0. 0.]\n",
      " [0. 0. 1. 0. 0. 0. 0. 0. 0. 0.]\n",
      " [0. 0. 0. 0. 0. 0. 0. 0. 0. 0.]\n",
      " [1. 0. 0. 0. 1. 0. 0. 0. 0. 0.]\n",
      " [0. 0. 0. 0. 0. 0. 0. 0. 0. 0.]\n",
      " [0. 1. 0. 0. 0. 0. 1. 0. 0. 0.]\n",
      " [1. 0. 0. 0. 1. 0. 0. 0. 0. 0.]\n",
      " [0. 0. 0. 0. 0. 0. 0. 0. 0. 0.]\n",
      " [0. 0. 0. 0. 0. 0. 0. 0. 0. 0.]\n",
      " [0. 0. 0. 0. 0. 0. 0. 0. 0. 0.]\n",
      " [0. 0. 0. 0. 0. 0. 0. 0. 0. 0.]\n",
      " [0. 0. 0. 0. 0. 0. 0. 0. 0. 0.]\n",
      " [0. 0. 0. 0. 0. 0. 0. 0. 0. 0.]\n",
      " [0. 0. 0. 1. 0. 0. 0. 0. 0. 0.]\n",
      " [0. 0. 0. 0. 0. 0. 0. 1. 0. 0.]\n",
      " [0. 0. 0. 0. 0. 0. 0. 0. 0. 0.]\n",
      " [0. 0. 0. 0. 0. 0. 0. 0. 0. 0.]\n",
      " [0. 0. 0. 0. 0. 0. 0. 0. 0. 0.]\n",
      " [0. 0. 0. 1. 0. 0. 0. 0. 1. 0.]\n",
      " [1. 0. 0. 0. 0. 0. 0. 0. 0. 0.]\n",
      " [0. 0. 0. 0. 0. 0. 0. 0. 0. 0.]\n",
      " [0. 0. 0. 0. 0. 0. 0. 0. 0. 0.]\n",
      " [1. 0. 0. 0. 0. 0. 0. 0. 0. 0.]\n",
      " [0. 0. 0. 0. 0. 0. 0. 0. 0. 0.]\n",
      " [0. 0. 0. 0. 0. 0. 0. 0. 0. 0.]\n",
      " [0. 0. 0. 0. 0. 1. 0. 0. 0. 0.]\n",
      " [0. 0. 0. 0. 0. 0. 0. 0. 0. 0.]\n",
      " [0. 0. 0. 0. 0. 0. 0. 0. 0. 0.]\n",
      " [0. 0. 0. 0. 0. 0. 1. 0. 0. 0.]\n",
      " [0. 0. 0. 0. 0. 1. 0. 0. 0. 0.]\n",
      " [1. 0. 0. 0. 1. 0. 0. 0. 0. 0.]\n",
      " [0. 0. 0. 1. 0. 0. 0. 0. 1. 0.]\n",
      " [0. 0. 0. 0. 0. 0. 0. 0. 0. 0.]\n",
      " [0. 0. 0. 0. 0. 0. 0. 0. 0. 0.]\n",
      " [0. 0. 0. 0. 1. 0. 0. 0. 0. 0.]\n",
      " [0. 0. 0. 0. 0. 0. 1. 0. 0. 0.]\n",
      " [0. 0. 0. 0. 0. 0. 0. 0. 0. 0.]\n",
      " [0. 0. 0. 0. 0. 0. 0. 0. 1. 0.]\n",
      " [1. 0. 0. 0. 0. 0. 0. 0. 0. 0.]\n",
      " [0. 0. 0. 0. 0. 0. 0. 0. 0. 0.]\n",
      " [0. 1. 0. 0. 0. 0. 0. 0. 0. 0.]\n",
      " [0. 0. 0. 0. 0. 0. 0. 0. 0. 0.]\n",
      " [0. 0. 0. 1. 0. 0. 0. 0. 0. 0.]\n",
      " [0. 0. 0. 0. 0. 0. 0. 0. 0. 0.]]\n",
      "[[0. 0. 0. 0. 0. 0. 0. 0. 0. 0.]\n",
      " [0. 0. 0. 0. 0. 0. 0. 0. 0. 0.]\n",
      " [0. 0. 0. 0. 0. 0. 0. 0. 0. 0.]\n",
      " [0. 0. 0. 0. 0. 0. 0. 0. 0. 0.]\n",
      " [0. 0. 0. 0. 0. 0. 0. 0. 0. 0.]\n",
      " [0. 0. 0. 0. 0. 0. 0. 0. 0. 0.]\n",
      " [0. 0. 0. 0. 0. 0. 0. 0. 0. 0.]\n",
      " [0. 0. 0. 0. 0. 0. 0. 0. 0. 0.]\n",
      " [1. 0. 0. 0. 0. 0. 0. 0. 0. 0.]\n",
      " [0. 0. 0. 0. 0. 0. 0. 0. 0. 0.]\n",
      " [1. 0. 0. 0. 1. 0. 0. 0. 0. 0.]\n",
      " [0. 0. 0. 0. 0. 0. 0. 0. 0. 0.]\n",
      " [0. 0. 0. 0. 0. 0. 0. 1. 0. 0.]\n",
      " [0. 0. 0. 0. 0. 0. 0. 0. 0. 0.]\n",
      " [0. 0. 0. 1. 0. 0. 0. 0. 1. 0.]\n",
      " [0. 0. 0. 0. 0. 0. 0. 0. 0. 0.]\n",
      " [0. 0. 0. 0. 0. 0. 0. 0. 0. 0.]\n",
      " [0. 0. 0. 0. 0. 0. 0. 0. 0. 0.]\n",
      " [0. 0. 0. 0. 0. 0. 0. 1. 0. 0.]\n",
      " [0. 0. 0. 0. 0. 0. 0. 0. 0. 0.]\n",
      " [0. 0. 0. 0. 0. 0. 0. 0. 0. 0.]\n",
      " [0. 0. 0. 0. 0. 0. 0. 0. 0. 0.]\n",
      " [0. 0. 0. 0. 1. 0. 0. 0. 0. 0.]\n",
      " [0. 0. 0. 0. 0. 0. 0. 1. 0. 1.]\n",
      " [0. 0. 0. 0. 0. 0. 0. 0. 0. 0.]\n",
      " [0. 0. 0. 0. 0. 0. 0. 0. 0. 0.]\n",
      " [0. 0. 0. 0. 0. 0. 0. 0. 0. 0.]\n",
      " [0. 0. 0. 0. 0. 0. 0. 0. 0. 0.]\n",
      " [0. 0. 0. 0. 0. 1. 0. 0. 0. 0.]\n",
      " [0. 0. 0. 0. 0. 0. 0. 0. 0. 0.]\n",
      " [0. 0. 0. 0. 0. 1. 0. 0. 0. 0.]\n",
      " [0. 0. 0. 1. 0. 0. 0. 0. 1. 0.]\n",
      " [0. 0. 0. 0. 0. 0. 0. 0. 0. 0.]\n",
      " [0. 0. 0. 0. 0. 0. 0. 0. 0. 0.]\n",
      " [0. 0. 0. 0. 0. 0. 0. 0. 0. 0.]\n",
      " [0. 0. 0. 0. 0. 0. 0. 0. 0. 0.]\n",
      " [0. 1. 0. 0. 0. 0. 0. 0. 0. 0.]\n",
      " [0. 0. 0. 1. 0. 0. 1. 0. 0. 0.]\n",
      " [0. 0. 0. 0. 0. 0. 0. 0. 0. 0.]\n",
      " [0. 0. 1. 0. 0. 0. 0. 0. 0. 0.]\n",
      " [0. 0. 0. 0. 0. 0. 0. 0. 0. 0.]\n",
      " [1. 0. 0. 0. 1. 0. 0. 0. 0. 0.]\n",
      " [0. 0. 0. 0. 0. 0. 0. 0. 0. 0.]\n",
      " [0. 1. 0. 0. 0. 0. 1. 0. 0. 0.]\n",
      " [1. 0. 0. 0. 1. 0. 0. 0. 0. 0.]\n",
      " [0. 0. 0. 0. 0. 0. 0. 0. 0. 0.]\n",
      " [0. 0. 0. 0. 0. 0. 0. 0. 0. 0.]\n",
      " [0. 0. 0. 0. 0. 0. 0. 0. 0. 0.]\n",
      " [0. 0. 0. 0. 0. 0. 0. 0. 0. 0.]\n",
      " [0. 0. 0. 0. 0. 0. 0. 0. 0. 0.]\n",
      " [0. 0. 0. 0. 0. 0. 0. 0. 0. 0.]\n",
      " [0. 0. 0. 1. 0. 0. 0. 0. 0. 0.]\n",
      " [0. 0. 0. 0. 0. 0. 0. 1. 0. 0.]\n",
      " [0. 0. 0. 0. 0. 0. 0. 0. 0. 0.]\n",
      " [0. 0. 0. 0. 0. 0. 0. 0. 0. 0.]\n",
      " [0. 0. 0. 0. 0. 0. 0. 0. 0. 0.]\n",
      " [0. 0. 0. 1. 0. 0. 0. 0. 1. 0.]\n",
      " [1. 0. 0. 0. 0. 0. 0. 0. 0. 0.]\n",
      " [0. 0. 0. 0. 0. 0. 0. 0. 0. 0.]\n",
      " [0. 0. 0. 0. 0. 0. 0. 0. 0. 0.]\n",
      " [1. 0. 0. 0. 0. 0. 0. 0. 0. 0.]\n",
      " [0. 0. 0. 0. 0. 0. 0. 0. 0. 0.]\n",
      " [0. 0. 0. 0. 0. 0. 0. 0. 0. 0.]\n",
      " [0. 0. 0. 0. 0. 1. 0. 0. 0. 0.]\n",
      " [0. 0. 0. 0. 0. 0. 0. 0. 0. 0.]\n",
      " [0. 0. 0. 0. 0. 0. 0. 0. 0. 0.]\n",
      " [0. 0. 0. 0. 0. 0. 1. 0. 0. 0.]\n",
      " [0. 0. 0. 0. 0. 1. 0. 0. 0. 0.]\n",
      " [1. 0. 0. 0. 1. 0. 0. 0. 0. 0.]\n",
      " [0. 0. 0. 1. 0. 0. 0. 0. 1. 0.]\n",
      " [0. 0. 0. 0. 0. 0. 0. 0. 0. 0.]\n",
      " [0. 0. 0. 0. 0. 0. 0. 0. 0. 0.]\n",
      " [0. 0. 0. 0. 1. 0. 0. 0. 0. 0.]\n",
      " [0. 0. 0. 0. 0. 0. 1. 0. 0. 0.]\n",
      " [0. 0. 0. 0. 0. 0. 0. 0. 0. 0.]\n",
      " [0. 0. 0. 0. 0. 0. 0. 0. 1. 0.]\n",
      " [1. 0. 0. 0. 0. 0. 0. 0. 0. 0.]\n",
      " [0. 0. 0. 0. 0. 0. 0. 0. 0. 0.]\n",
      " [0. 1. 0. 0. 0. 0. 0. 0. 0. 0.]\n",
      " [0. 0. 0. 0. 0. 0. 0. 0. 0. 0.]\n",
      " [0. 0. 0. 1. 0. 0. 0. 0. 0. 0.]\n",
      " [0. 0. 0. 0. 0. 0. 0. 0. 0. 0.]]\n"
     ]
    },
    {
     "ename": "AssertionError",
     "evalue": "",
     "output_type": "error",
     "traceback": [
      "\u001b[0;31m---------------------------------------------------------------------------\u001b[0m",
      "\u001b[0;31mAssertionError\u001b[0m                            Traceback (most recent call last)",
      "\u001b[0;32m<ipython-input-231-1c9b1a07a076>\u001b[0m in \u001b[0;36m<module>\u001b[0;34m\u001b[0m\n\u001b[1;32m     25\u001b[0m         \u001b[0mprint\u001b[0m\u001b[0;34m(\u001b[0m\u001b[0mS\u001b[0m\u001b[0;34m)\u001b[0m\u001b[0;34m\u001b[0m\u001b[0;34m\u001b[0m\u001b[0m\n\u001b[1;32m     26\u001b[0m         \u001b[0mL\u001b[0m \u001b[0;34m=\u001b[0m \u001b[0mvnsgm\u001b[0m\u001b[0;34m(\u001b[0m\u001b[0mfb_voi\u001b[0m\u001b[0;34m,\u001b[0m \u001b[0mS\u001b[0m\u001b[0;34m,\u001b[0m \u001b[0madj2a\u001b[0m\u001b[0;34m,\u001b[0m \u001b[0madj2\u001b[0m\u001b[0;34m,\u001b[0m \u001b[0mhhop\u001b[0m\u001b[0;34m,\u001b[0m \u001b[0mell\u001b[0m\u001b[0;34m,\u001b[0m \u001b[0mR\u001b[0m\u001b[0;34m,\u001b[0m \u001b[0mg\u001b[0m\u001b[0;34m)\u001b[0m \u001b[0;31m# L <- localnbd(fb.voi,S,HSfbgraphcore,g.frscrambled,hhop,ell,R,g)\u001b[0m\u001b[0;34m\u001b[0m\u001b[0;34m\u001b[0m\u001b[0m\n\u001b[0;32m---> 27\u001b[0;31m         \u001b[0;32massert\u001b[0m \u001b[0;32mFalse\u001b[0m\u001b[0;34m\u001b[0m\u001b[0;34m\u001b[0m\u001b[0m\n\u001b[0m\u001b[1;32m     28\u001b[0m \u001b[0;34m\u001b[0m\u001b[0m\n\u001b[1;32m     29\u001b[0m \u001b[0;34m\u001b[0m\u001b[0m\n",
      "\u001b[0;31mAssertionError\u001b[0m: "
     ]
    }
   ],
   "source": [
    "for vvi in range(1, adj2.shape[0]+1):\n",
    "    voi = vvi - 1\n",
    "    \n",
    "    fb_voi = map2sort[voi,0]\n",
    "    fr_voi = map2sort[voi,1]\n",
    "    \n",
    "    Nhtmp = ego(adj2a,hhop,voi,mindist=1)\n",
    "    \n",
    "    \n",
    "    imp2 = 0\n",
    "    nrankxp0 = 0\n",
    "    nrankxpBad = 0 \n",
    "    \n",
    "    nrvois = np.full(len(Nhtmp), None)\n",
    "    \n",
    "    imp2_h1l2 = 0\n",
    "    nrankxp0_h1l2 = 0\n",
    "    nrankxpBad_h1l2 = 0 \n",
    "    \n",
    "    nrvois_h1l2 = np.full(len(Nhtmp), None)\n",
    "    \n",
    "    for ii, seed in enumerate(Nhtmp):\n",
    "        S = map2sort[seed]\n",
    "        frtmp = fr_voi + (1 if S[1]>fr_voi else 0)\n",
    "        print(S)\n",
    "        L = vnsgm(fb_voi, S, adj2a, adj2, hhop, ell, R, g) # L <- localnbd(fb.voi,S,HSfbgraphcore,g.frscrambled,hhop,ell,R,g)\n",
    "        assert False\n",
    "    \n",
    "    \n",
    "    "
   ]
  },
  {
   "cell_type": "code",
   "execution_count": 206,
   "metadata": {},
   "outputs": [
    {
     "data": {
      "text/plain": [
       "{1, 2}"
      ]
     },
     "execution_count": 206,
     "metadata": {},
     "output_type": "execute_result"
    }
   ],
   "source": [
    "seta = set([1,2,3]); setb = set([3,4,5])\n",
    "seta.difference(setb)"
   ]
  },
  {
   "cell_type": "code",
   "execution_count": null,
   "metadata": {},
   "outputs": [],
   "source": []
  }
 ],
 "metadata": {
  "kernelspec": {
   "display_name": "Python 3",
   "language": "python",
   "name": "python3"
  },
  "language_info": {
   "codemirror_mode": {
    "name": "ipython",
    "version": 3
   },
   "file_extension": ".py",
   "mimetype": "text/x-python",
   "name": "python",
   "nbconvert_exporter": "python",
   "pygments_lexer": "ipython3",
   "version": "3.7.6"
  }
 },
 "nbformat": 4,
 "nbformat_minor": 4
}
