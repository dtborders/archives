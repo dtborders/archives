{
 "cells": [
  {
   "cell_type": "code",
   "execution_count": 265,
   "metadata": {},
   "outputs": [],
   "source": [
    "import numpy as np"
   ]
  },
  {
   "cell_type": "code",
   "execution_count": 271,
   "metadata": {},
   "outputs": [],
   "source": [
    "def sgm(A, B, seeds, hard=True, pad=0, start='barycenter', maxiter=20):\n",
    "    gamma = 0.1\n",
    "    nv1 = A.shape[0]\n",
    "    nv2 = B.shape[0]\n",
    "    nv = max(nv1, nv2)\n",
    "    \n",
    "    if (seeds is None):\n",
    "        m = 0\n",
    "        if start == 'barycenter':\n",
    "            S = np.full((nv, nv), 1/float(nv))\n",
    "        else:\n",
    "            return None #Implement rsp function later\n",
    "        AA = A\n",
    "        BB = B\n",
    "    else:\n",
    "        A_ind = np.concatenate((seeds[:, 0], np.arange(nv1)))\n",
    "        B_ind = np.concatenate((seeds[:, 1], np.arange(nv2)))\n",
    "        AA = A[A_ind, A_ind] #Unsure if this is correct\n",
    "        BB = B[B_ind, B_ind]\n",
    "        \n",
    "        m = seeds.shape[0]\n",
    "        \n",
    "        if (hard):\n",
    "            n = nv - m\n",
    "            if start == 'barycenter':\n",
    "                S = np.full((n, n), 1/float(n))\n",
    "            else:\n",
    "                return None #Implement rsp function later\n",
    "        else:\n",
    "            s = m\n",
    "            m = 0\n",
    "            if start == 'barycenter':\n",
    "                diag1 = np.identity(s)\n",
    "                diag2 = np.full((nv-s, nv-s), 1/float(nv-s))\n",
    "                offdiag = np.full((0, s), nv-s)\n",
    "                S = np.concatenate((np.concatenate((diag1,offdiag), axis=1), np.concatenate((np.transpose(offdiag),diag2), axis=1)), axis=0)\n",
    "            else:\n",
    "                return None #Implement this functionality later\n",
    "        \n",
    "    return sgm_ordered(AA, BB,m,S,pad,maxiter)\n",
    "\n",
    "def sgm_ordered(A,B,m,start,pad=0,maxiter=20,LAP=\"exact\",verbose=False):\n",
    "    \n",
    "    totv1 = A.shape[1]\n",
    "    totv2 = B.shape[1]\n",
    "    \n",
    "    A[A==0] = -1\n",
    "    B[B==0] = -1\n",
    "    if (totv1>totv2):\n",
    "        diff = totv1-totv2\n",
    "        B = np.concatenate((B, np.full((B.shape[0], diff), pad)), axis=1)\n",
    "        B = np.concatenate((B, np.full((diff, B.shape[1]), pad)), axis=0)\n",
    "    elif (totv1<totv2):\n",
    "        diff = totv2-totv1\n",
    "        A = np.concatenate((A, np.full((A.shape[0], diff), pad)), axis=1)\n",
    "        A = np.concatenate((A, np.full((diff, A.shape[1]), pad)), axis=0)\n",
    "        \n",
    "    totv = max(totv1,totv2)\n",
    "    \n",
    "    n = totv-m\n",
    "    \n",
    "    if m == 0:\n",
    "        A12 = np.zeros((n, n)); A21 = np.zeros((n, n)); B12 = np.zeros((n, n)); B21 = np.zeros((n, n))\n",
    "    else:\n",
    "        A12 = A[0:m,m:(m+n)]\n",
    "        A21 = A[m:(m+n),0:m]\n",
    "        B12 = B[0:m,m:(m+n)]\n",
    "        B21 = B[m:(m+n),0:m]\n",
    "        \n",
    "    if n == 1:\n",
    "        A12 = A21 = B12 = B21 = np.transpose(A12)\n",
    "        \n",
    "    A22 = A[m:(m+n),m:(m+n)]\n",
    "    tA22 = np.transpose(A22)\n",
    "    \n",
    "    B22 = B[m:(m+n),m:(m+n)]\n",
    "    tB22 = np.transpose(B22)\n",
    "        \n",
    "        \n",
    "        \n",
    "        "
   ]
  },
  {
   "cell_type": "code",
   "execution_count": 266,
   "metadata": {},
   "outputs": [
    {
     "data": {
      "text/plain": [
       "array([[0.83989429, 0.20823348, 0.3155179 , 0.85390716, 0.34693706],\n",
       "       [0.72465194, 0.9821214 , 0.37940598, 0.52322449, 0.21457605],\n",
       "       [0.42965877, 0.27776169, 0.37194169, 0.49511704, 0.92226747],\n",
       "       [0.12021168, 0.96295392, 0.23151193, 0.39359816, 0.39788831],\n",
       "       [0.99931674, 0.29345189, 0.04526614, 0.20670414, 0.02164026]])"
      ]
     },
     "execution_count": 266,
     "metadata": {},
     "output_type": "execute_result"
    }
   ],
   "source": [
    "randm = np.random.random((5, 5))\n",
    "randm"
   ]
  },
  {
   "cell_type": "code",
   "execution_count": 267,
   "metadata": {},
   "outputs": [
    {
     "data": {
      "text/plain": [
       "True"
      ]
     },
     "execution_count": 267,
     "metadata": {},
     "output_type": "execute_result"
    }
   ],
   "source": [
    "type(list([1,2,3,4]))==list"
   ]
  },
  {
   "cell_type": "code",
   "execution_count": 272,
   "metadata": {},
   "outputs": [
    {
     "ename": "IndexError",
     "evalue": "tuple index out of range",
     "output_type": "error",
     "traceback": [
      "\u001b[0;31m---------------------------------------------------------------------------\u001b[0m",
      "\u001b[0;31mIndexError\u001b[0m                                Traceback (most recent call last)",
      "\u001b[0;32m<ipython-input-272-229fcef6f35f>\u001b[0m in \u001b[0;36m<module>\u001b[0;34m\u001b[0m\n\u001b[1;32m      2\u001b[0m \u001b[0mB\u001b[0m \u001b[0;34m=\u001b[0m \u001b[0mnp\u001b[0m\u001b[0;34m.\u001b[0m\u001b[0mrandom\u001b[0m\u001b[0;34m.\u001b[0m\u001b[0mrand\u001b[0m\u001b[0;34m(\u001b[0m\u001b[0;36m15\u001b[0m\u001b[0;34m,\u001b[0m \u001b[0;36m15\u001b[0m\u001b[0;34m)\u001b[0m\u001b[0;34m\u001b[0m\u001b[0;34m\u001b[0m\u001b[0m\n\u001b[1;32m      3\u001b[0m \u001b[0mC\u001b[0m \u001b[0;34m=\u001b[0m \u001b[0mnp\u001b[0m\u001b[0;34m.\u001b[0m\u001b[0marray\u001b[0m\u001b[0;34m(\u001b[0m\u001b[0;34m[\u001b[0m\u001b[0;34m[\u001b[0m\u001b[0;36m1\u001b[0m\u001b[0;34m,\u001b[0m\u001b[0;36m2\u001b[0m\u001b[0;34m]\u001b[0m\u001b[0;34m,\u001b[0m \u001b[0;34m[\u001b[0m\u001b[0;36m3\u001b[0m\u001b[0;34m,\u001b[0m\u001b[0;36m4\u001b[0m\u001b[0;34m]\u001b[0m\u001b[0;34m]\u001b[0m\u001b[0;34m)\u001b[0m\u001b[0;34m\u001b[0m\u001b[0;34m\u001b[0m\u001b[0m\n\u001b[0;32m----> 4\u001b[0;31m \u001b[0mAA\u001b[0m\u001b[0;34m,\u001b[0m \u001b[0mBB\u001b[0m\u001b[0;34m,\u001b[0m \u001b[0mm\u001b[0m\u001b[0;34m,\u001b[0m \u001b[0mS\u001b[0m\u001b[0;34m,\u001b[0m \u001b[0mpad\u001b[0m\u001b[0;34m,\u001b[0m \u001b[0mmaxiter\u001b[0m \u001b[0;34m=\u001b[0m \u001b[0msgm\u001b[0m\u001b[0;34m(\u001b[0m\u001b[0mA\u001b[0m\u001b[0;34m,\u001b[0m \u001b[0mB\u001b[0m\u001b[0;34m,\u001b[0m \u001b[0mC\u001b[0m\u001b[0;34m)\u001b[0m\u001b[0;34m\u001b[0m\u001b[0;34m\u001b[0m\u001b[0m\n\u001b[0m\u001b[1;32m      5\u001b[0m \u001b[0mprint\u001b[0m\u001b[0;34m(\u001b[0m\u001b[0;34m\"AA = \"\u001b[0m\u001b[0;34m,\u001b[0m \u001b[0mAA\u001b[0m\u001b[0;34m)\u001b[0m\u001b[0;34m\u001b[0m\u001b[0;34m\u001b[0m\u001b[0m\n\u001b[1;32m      6\u001b[0m \u001b[0mprint\u001b[0m\u001b[0;34m(\u001b[0m\u001b[0;34m\"BB = \"\u001b[0m\u001b[0;34m,\u001b[0m \u001b[0mBB\u001b[0m\u001b[0;34m)\u001b[0m\u001b[0;34m\u001b[0m\u001b[0;34m\u001b[0m\u001b[0m\n",
      "\u001b[0;32m<ipython-input-271-f4f5c3e94fcf>\u001b[0m in \u001b[0;36msgm\u001b[0;34m(A, B, seeds, hard, pad, start, maxiter)\u001b[0m\n\u001b[1;32m     38\u001b[0m                 \u001b[0;32mreturn\u001b[0m \u001b[0;32mNone\u001b[0m \u001b[0;31m#Implement this functionality later\u001b[0m\u001b[0;34m\u001b[0m\u001b[0;34m\u001b[0m\u001b[0m\n\u001b[1;32m     39\u001b[0m \u001b[0;34m\u001b[0m\u001b[0m\n\u001b[0;32m---> 40\u001b[0;31m     \u001b[0;32mreturn\u001b[0m \u001b[0msgm_ordered\u001b[0m\u001b[0;34m(\u001b[0m\u001b[0mAA\u001b[0m\u001b[0;34m,\u001b[0m \u001b[0mBB\u001b[0m\u001b[0;34m,\u001b[0m\u001b[0mm\u001b[0m\u001b[0;34m,\u001b[0m\u001b[0mS\u001b[0m\u001b[0;34m,\u001b[0m\u001b[0mpad\u001b[0m\u001b[0;34m,\u001b[0m\u001b[0mmaxiter\u001b[0m\u001b[0;34m)\u001b[0m\u001b[0;34m\u001b[0m\u001b[0;34m\u001b[0m\u001b[0m\n\u001b[0m\u001b[1;32m     41\u001b[0m \u001b[0;34m\u001b[0m\u001b[0m\n\u001b[1;32m     42\u001b[0m \u001b[0;32mdef\u001b[0m \u001b[0msgm_ordered\u001b[0m\u001b[0;34m(\u001b[0m\u001b[0mA\u001b[0m\u001b[0;34m,\u001b[0m\u001b[0mB\u001b[0m\u001b[0;34m,\u001b[0m\u001b[0mm\u001b[0m\u001b[0;34m,\u001b[0m\u001b[0mstart\u001b[0m\u001b[0;34m,\u001b[0m\u001b[0mpad\u001b[0m\u001b[0;34m=\u001b[0m\u001b[0;36m0\u001b[0m\u001b[0;34m,\u001b[0m\u001b[0mmaxiter\u001b[0m\u001b[0;34m=\u001b[0m\u001b[0;36m20\u001b[0m\u001b[0;34m,\u001b[0m\u001b[0mLAP\u001b[0m\u001b[0;34m=\u001b[0m\u001b[0;34m\"exact\"\u001b[0m\u001b[0;34m,\u001b[0m\u001b[0mverbose\u001b[0m\u001b[0;34m=\u001b[0m\u001b[0;32mFalse\u001b[0m\u001b[0;34m)\u001b[0m\u001b[0;34m:\u001b[0m\u001b[0;34m\u001b[0m\u001b[0;34m\u001b[0m\u001b[0m\n",
      "\u001b[0;32m<ipython-input-271-f4f5c3e94fcf>\u001b[0m in \u001b[0;36msgm_ordered\u001b[0;34m(A, B, m, start, pad, maxiter, LAP, verbose)\u001b[0m\n\u001b[1;32m     42\u001b[0m \u001b[0;32mdef\u001b[0m \u001b[0msgm_ordered\u001b[0m\u001b[0;34m(\u001b[0m\u001b[0mA\u001b[0m\u001b[0;34m,\u001b[0m\u001b[0mB\u001b[0m\u001b[0;34m,\u001b[0m\u001b[0mm\u001b[0m\u001b[0;34m,\u001b[0m\u001b[0mstart\u001b[0m\u001b[0;34m,\u001b[0m\u001b[0mpad\u001b[0m\u001b[0;34m=\u001b[0m\u001b[0;36m0\u001b[0m\u001b[0;34m,\u001b[0m\u001b[0mmaxiter\u001b[0m\u001b[0;34m=\u001b[0m\u001b[0;36m20\u001b[0m\u001b[0;34m,\u001b[0m\u001b[0mLAP\u001b[0m\u001b[0;34m=\u001b[0m\u001b[0;34m\"exact\"\u001b[0m\u001b[0;34m,\u001b[0m\u001b[0mverbose\u001b[0m\u001b[0;34m=\u001b[0m\u001b[0;32mFalse\u001b[0m\u001b[0;34m)\u001b[0m\u001b[0;34m:\u001b[0m\u001b[0;34m\u001b[0m\u001b[0;34m\u001b[0m\u001b[0m\n\u001b[1;32m     43\u001b[0m \u001b[0;34m\u001b[0m\u001b[0m\n\u001b[0;32m---> 44\u001b[0;31m     \u001b[0mtotv1\u001b[0m \u001b[0;34m=\u001b[0m \u001b[0mA\u001b[0m\u001b[0;34m.\u001b[0m\u001b[0mshape\u001b[0m\u001b[0;34m[\u001b[0m\u001b[0;36m1\u001b[0m\u001b[0;34m]\u001b[0m\u001b[0;34m\u001b[0m\u001b[0;34m\u001b[0m\u001b[0m\n\u001b[0m\u001b[1;32m     45\u001b[0m     \u001b[0mtotv2\u001b[0m \u001b[0;34m=\u001b[0m \u001b[0mB\u001b[0m\u001b[0;34m.\u001b[0m\u001b[0mshape\u001b[0m\u001b[0;34m[\u001b[0m\u001b[0;36m1\u001b[0m\u001b[0;34m]\u001b[0m\u001b[0;34m\u001b[0m\u001b[0;34m\u001b[0m\u001b[0m\n\u001b[1;32m     46\u001b[0m \u001b[0;34m\u001b[0m\u001b[0m\n",
      "\u001b[0;31mIndexError\u001b[0m: tuple index out of range"
     ]
    }
   ],
   "source": [
    "A = np.random.rand(15, 15)\n",
    "B = np.random.rand(15, 15)\n",
    "C = np.array([[1,2], [3,4]])\n",
    "AA, BB, m, S, pad, maxiter = sgm(A, B, C)\n",
    "print(\"AA = \", AA)\n",
    "print(\"BB = \", BB)\n",
    "print(\"m = \", m)\n",
    "print(\"S = \", S)\n",
    "print(\"pad = \", pad)\n",
    "print(\"maxiter = \", maxiter)\n"
   ]
  },
  {
   "cell_type": "code",
   "execution_count": null,
   "metadata": {},
   "outputs": [],
   "source": []
  },
  {
   "cell_type": "code",
   "execution_count": 274,
   "metadata": {},
   "outputs": [
    {
     "ename": "NameError",
     "evalue": "name 'mp' is not defined",
     "output_type": "error",
     "traceback": [
      "\u001b[0;31m---------------------------------------------------------------------------\u001b[0m",
      "\u001b[0;31mNameError\u001b[0m                                 Traceback (most recent call last)",
      "\u001b[0;32m<ipython-input-274-42faad0a4c5b>\u001b[0m in \u001b[0;36m<module>\u001b[0;34m\u001b[0m\n\u001b[1;32m     12\u001b[0m \u001b[0;34m\u001b[0m\u001b[0m\n\u001b[1;32m     13\u001b[0m \u001b[0mnV1\u001b[0m \u001b[0;34m=\u001b[0m \u001b[0;36m1\u001b[0m\u001b[0;34m+\u001b[0m\u001b[0ms\u001b[0m\u001b[0;34m+\u001b[0m\u001b[0mn\u001b[0m\u001b[0;34m+\u001b[0m\u001b[0mm\u001b[0m\u001b[0;34m\u001b[0m\u001b[0;34m\u001b[0m\u001b[0m\n\u001b[0;32m---> 14\u001b[0;31m \u001b[0mnV2\u001b[0m \u001b[0;34m=\u001b[0m \u001b[0;36m1\u001b[0m\u001b[0;34m+\u001b[0m\u001b[0ms\u001b[0m\u001b[0;34m+\u001b[0m\u001b[0mn\u001b[0m\u001b[0;34m+\u001b[0m\u001b[0mmp\u001b[0m\u001b[0;34m\u001b[0m\u001b[0;34m\u001b[0m\u001b[0m\n\u001b[0m",
      "\u001b[0;31mNameError\u001b[0m: name 'mp' is not defined"
     ]
    }
   ],
   "source": [
    "# parameters for finding seeds\n",
    "s = 4 # number of seeds to be used for SGM h <- ell <- 1 # max walk for finding neighborhoods\n",
    "# parameters for SGM\n",
    "R = 100 # repeat SGM R times to get averaged P matrix\n",
    "gamma = 0.1 # number of iterations for the Frank-Wolfe algorithm\n",
    "mc = 2\n",
    "\n",
    "m = 5 #|J|=junkonG1\n",
    "n = 20 # |W| = shared vertices on G1, not including x and S mp <- 0 # |J'| = junk on G2\n",
    "d = 5 # for RDPG, dimension of the random vectors\n",
    "corr = 0.5 # for correlated graphs\n",
    "\n",
    "nV1 = 1+s+n+m\n",
    "nV2 = 1+s+n+mp"
   ]
  },
  {
   "cell_type": "markdown",
   "metadata": {},
   "source": [
    "# Try 2\n",
    "\n",
    "Generate figure 6 from the figure becasue this implementation of the alg looks simplist"
   ]
  },
  {
   "cell_type": "code",
   "execution_count": 275,
   "metadata": {},
   "outputs": [
    {
     "name": "stdout",
     "output_type": "stream",
     "text": [
      "HSfbgraphcore.txt VN_via_SGM.ipynb  ego_testing.ipynb\r\n",
      "HSfrgraphcore.txt ego.py            fig6_data.npy\r\n"
     ]
    }
   ],
   "source": [
    "import numpy as np\n",
    "from graspologic.plot import heatmap\n",
    "import igraph\n",
    "!ls"
   ]
  },
  {
   "cell_type": "code",
   "execution_count": 276,
   "metadata": {},
   "outputs": [
    {
     "data": {
      "text/plain": [
       "<matplotlib.axes._subplots.AxesSubplot at 0x7fb4f3c5a390>"
      ]
     },
     "execution_count": 276,
     "metadata": {},
     "output_type": "execute_result"
    },
    {
     "data": {
      "image/png": "[encoded data removed]",
      "text/plain": [
       "<Figure size 720x720 with 2 Axes>"
      ]
     },
     "metadata": {
      "needs_background": "light"
     },
     "output_type": "display_data"
    }
   ],
   "source": [
    "adj_matrix = np.load(\"fig6_data.npy\")\n",
    "heatmap(adj_matrix, title=\"Bijection between friend networks\")"
   ]
  },
  {
   "cell_type": "code",
   "execution_count": 277,
   "metadata": {},
   "outputs": [],
   "source": [
    "def permute_adj_matrix(adj_mat):\n",
    "    assert adj_mat.shape[0] == adj_mat.shape[1]\n",
    "    indexs = np.random.permutation(np.arange(adj_mat.shape[0]))\n",
    "    ress = np.zeros(adj_mat.shape)\n",
    "    for ii, ind in enumerate(indexs):\n",
    "        ress[ii] = adj_mat[ind][indexs]\n",
    "    return ress, indexs"
   ]
  },
  {
   "cell_type": "code",
   "execution_count": 279,
   "metadata": {},
   "outputs": [
    {
     "data": {
      "text/plain": [
       "<matplotlib.axes._subplots.AxesSubplot at 0x7fb4f3dfff90>"
      ]
     },
     "execution_count": 279,
     "metadata": {},
     "output_type": "execute_result"
    },
    {
     "data": {
      "image/png": "[encoded data removed]",
      "text/plain": [
       "<Figure size 720x720 with 2 Axes>"
      ]
     },
     "metadata": {
      "needs_background": "light"
     },
     "output_type": "display_data"
    }
   ],
   "source": [
    "adj_perm, indexes = permute_adj_matrix(adj_matrix)\n",
    "heatmap(adj_perm, title=\"Bijection between friend networks, perm\")"
   ]
  },
  {
   "cell_type": "markdown",
   "metadata": {},
   "source": [
    "# Reproduce igraph's ego function from R"
   ]
  },
  {
   "cell_type": "code",
   "execution_count": 301,
   "metadata": {},
   "outputs": [],
   "source": [
    "def ego(graph_adj_matrix, order, node, mindist=1):\n",
    "    #Note all nodes are zero based in this implementation, i.e the first node is 0\n",
    "    dists = [[node]]\n",
    "    for ii in range(1, order+1):\n",
    "        clst = []\n",
    "        for nn in dists[-1]:\n",
    "            clst.extend(list(np.where(graph_adj_matrix[nn]==1)[0]))\n",
    "        clst = list(set(clst))\n",
    "        \n",
    "        #Remove all the ones that are closer (i.e thtat have already been included)\n",
    "        dists_conglom = []\n",
    "        for dd in dists:\n",
    "            dists_conglom.extend(dd)\n",
    "        dists_conglom = list(set(dists_conglom))\n",
    "        \n",
    "        cn_proc = []\n",
    "        for cn in clst:\n",
    "            if cn not in dists_conglom:\n",
    "                cn_proc.append(cn)\n",
    "        \n",
    "        dists.append(cn_proc)\n",
    "    ress = []\n",
    "        \n",
    "    for ii in range(mindist, order+1):\n",
    "        ress.extend(dists[ii])\n",
    "        \n",
    "    return list(set(ress))  \n",
    "\n",
    "def ego_list(graph_adj_matrix, order, node, mindist=1):\n",
    "    total_res = []\n",
    "    for nn in node:\n",
    "        ego_res = ego(graph_adj_matrix, order, nn, mindist=1)\n",
    "        total_res.extend(ego_res)\n",
    "    return list(set(total_res))"
   ]
  },
  {
   "cell_type": "code",
   "execution_count": 281,
   "metadata": {},
   "outputs": [],
   "source": [
    "igraph_obj = igraph.load(\"HSfbgraphcore.txt\", format=\"edges\")\n",
    "igraph_obj.to_undirected()"
   ]
  },
  {
   "cell_type": "code",
   "execution_count": 282,
   "metadata": {},
   "outputs": [
    {
     "name": "stdout",
     "output_type": "stream",
     "text": [
      "is_directed =  False\n",
      "(Num predicted/Num Expected) =  (47, 47)\n",
      "(Predicted/Expected):  [(1, 1), (2, 2), (5, 5), (6, 6), (7, 7), (8, 8), (9, 9), (10, 10), (11, 11), (12, 12), (13, 13), (14, 14), (16, 16), (17, 17), (21, 21), (22, 22), (23, 23), (24, 24), (25, 25), (26, 26), (28, 28), (29, 29), (32, 32), (34, 34), (35, 35), (36, 36), (39, 39), (40, 40), (41, 41), (42, 42), (43, 43), (45, 45), (46, 46), (48, 48), (49, 49), (51, 51), (55, 55), (59, 59), (60, 60), (63, 63), (65, 65), (69, 69), (71, 71), (74, 74), (75, 75), (77, 77), (81, 81)]\n"
     ]
    },
    {
     "data": {
      "image/png": "[encoded data removed]",
      "text/plain": [
       "<Figure size 720x720 with 2 Axes>"
      ]
     },
     "metadata": {
      "needs_background": "light"
     },
     "output_type": "display_data"
    }
   ],
   "source": [
    "print(\"is_directed = \", igraph_obj.is_directed())\n",
    "adj_mat_igraph = igraph_obj.get_adjacency()\n",
    "nparr = np.array(adj_mat_igraph.data)\n",
    "\n",
    "heatmap(nparr, title=\"Bijection between friend networks, perm\")\n",
    "egores = ego(nparr, 2, 26, mindist = 1)\n",
    "egores.sort()\n",
    "\n",
    "\n",
    "# Copy and pasted R output from calling ego on HSfbgraphcore\n",
    "r_output = [1, 2, 5, 6, 7, 8, 9, 10, 11, 12, 13, 14, 16, 17, 21, 22, 23, 24, 25, 26, 28, 29, 32, 34, 35, 36, 39, 40, 41, 42, 43, 45, 46, 48, 49, 51, 55, 59, 60, 63, 65, 69, 71, 74, 75, 77, 81]\n",
    "r_output.sort()\n",
    "\n",
    "#Print outputs\n",
    "print(\"(Num predicted/Num Expected) = \", (len(egores), len(r_output)))\n",
    "print(\"(Predicted/Expected): \", [(ii, jj) for ii, jj in zip([eg + 1 for eg in egores], r_output)]) #Add one to match Rs 1s based language (0 based in my imp)"
   ]
  },
  {
   "cell_type": "markdown",
   "metadata": {},
   "source": [
    "# Vertex nomination alg "
   ]
  },
  {
   "cell_type": "code",
   "execution_count": 283,
   "metadata": {},
   "outputs": [],
   "source": [
    "import matplotlib.pyplot as plt\n",
    "import random\n",
    "from graspologic.match import GraphMatch as GMP"
   ]
  },
  {
   "cell_type": "code",
   "execution_count": 356,
   "metadata": {},
   "outputs": [],
   "source": [
    "def shuffle_adj_matrix(adj_mat, shuffle_lst):\n",
    "    assert adj_mat.shape[0] == adj_mat.shape[1]\n",
    "    ress = np.zeros((len(shuffle_lst), len(shuffle_lst)))\n",
    "    for ii, ind in enumerate(shuffle_lst):\n",
    "        ress[ii] = adj_mat[ind][shuffle_lst]\n",
    "    return ress\n",
    "\n",
    "def vnsgm(x, seeds, A, B, h, ell, R, g, pad=0, sim=False, verb=False, plotF=False):\n",
    "    '''\n",
    "    Parameters\n",
    "    ----------\n",
    "    \n",
    "    x: int or ndarray\n",
    "        verticies of interest (voi)\n",
    "    \n",
    "    seeds: ndarray\n",
    "        seeds vector\n",
    "        \n",
    "    A: ndarray\n",
    "        Adjacency matrix of `G_1`, the graph where voi is known\n",
    "        \n",
    "    B: ndarray\n",
    "        Adjacency matrix of `G_2`, the graph where voi is not known\n",
    "        \n",
    "    h: int\n",
    "        distance between voi used to create induced subgraph on `G_1`\n",
    "        \n",
    "    ell: int \n",
    "        distance from seeds to other verts to create induced subgraphs on `G_1`\n",
    "        \n",
    "    R: int \n",
    "        number of restarts\n",
    "    \n",
    "    g: float\n",
    "        gamma to be used, max tol for alpha, tollerable dist from barycenter\n",
    "        \n",
    "    \n",
    "    \n",
    "    '''\n",
    "    \n",
    "    nv1 = A.shape[0]\n",
    "    nv2 = A.shape[0]\n",
    "    \n",
    "    nv = max(nv1, nv2)\n",
    "    \n",
    "    nsx1 = set(range(nv1)).difference(set([seeds[0], x]))\n",
    "    \n",
    "    vec = [seeds[0], x]; vec.extend(nsx1)\n",
    "    \n",
    "    AA = shuffle_adj_matrix(A, vec)\n",
    "#     print(AA[:, -10:])\n",
    "\n",
    "\n",
    "    ns2 = set(range(nv2)).difference(set([seeds[1]])) # <- setdiff(1:nv2,seeds[,2])\n",
    "    vec2 = [seeds[1]]; vec2.extend(ns2) # <- c(seeds[,2],ns2)\n",
    "    \n",
    "#     print(B[:, -10:])\n",
    "\n",
    "    BB = shuffle_adj_matrix(B, vec2)\n",
    "#     print(BB[:, -10:])\n",
    "\n",
    "    nrow_seeds = seeds.shape[0]\n",
    "\n",
    "    S = list(range(nrow_seeds))\n",
    "    \n",
    "    voi = list(range(nrow_seeds, nrow_seeds+2))\n",
    "    \n",
    "    #print(\"inside 1 w/ shapes \", AA.shape, BB.shape)\n",
    "    \n",
    "    P = vnsgm_ordered(voi,S,AA,BB,h,ell,R,g,pad=pad,sim=sim,verb=verb,plotF=plotF)\n",
    "    \n",
    "    P['x'] = x\n",
    "    P['S'] = seeds\n",
    "    print(seeds, P['Sx'],P['Sxp'])\n",
    "#     P['Sx']  = seeds[P['Sx'],1]\n",
    "#     P['Sxp'] = seeds[P['Sxp'],2]\n",
    "    P['Cxp'] = vec2[P['Cxp']]\n",
    "    lb2 = vec[P['labelsGx']]\n",
    "    P['labelsGx']  = lb2\n",
    "    P['labelsGxp'] = vec2[P['labelsGxp']]\n",
    "    return P\n",
    "\n",
    "def vnsgm_ordered(x,S,A,B,h,ell,R,g,pad=0,sim=True,verb=False,plotF=False):\n",
    "    '''\n",
    "    Parameters\n",
    "    ----------\n",
    "    \n",
    "    x: list \n",
    "        Verticies of intrerest\n",
    "        \n",
    "    S: list\n",
    "        Vector of seeds\n",
    "        \n",
    "    A: ndarray\n",
    "        `G_1` where voi are known\n",
    "    \n",
    "    B: ndarray\n",
    "        `G_2` where voi unknown\n",
    "        \n",
    "    rest same as before\n",
    "    '''\n",
    "    s = len(S)\n",
    "    Nh = ego_list(A, h, x, mindist=1) # TODO: make able to take a list in <- unlist(ego(g1,h,nodes=x,mindist=1))\n",
    "    \n",
    "    Sx1 = None; Sx2 = None\n",
    "    \n",
    "    Sx1 = list(set(Nh).intersection(set(S))); Sx1.sort(); sx = len(Sx1)\n",
    "    \n",
    "    Sx2 = list(set(list(range(B.shape[0]))).intersection(set(Sx1))); Sx2.sort(); sx2 = len(Sx2)\n",
    "    #print(\"SX1, Sx2, \", Sx1, Sx2)\n",
    "               \n",
    "    case = 'possible' if sx2>0 else 'impossible'\n",
    "    \n",
    "    if case == 'possible':\n",
    "        Cx2 = ego_list(B, ell, Sx2, mindist=1)\n",
    "        Cx2 = set(Cx2).difference(set(Sx2))\n",
    "        \n",
    "        if sim:\n",
    "            case = np.array(['possible' if _x in Cx2 else 'impossible' for _x in x])\n",
    "        \n",
    "        if len(np.where(case == 'possible')[0])>0:\n",
    "            Nx1 = ego_list(A, ell, Sx1, mindist=0)\n",
    "            Nx2 = ego_list(B, ell, Sx2, mindist=0)\n",
    "            \n",
    "            #print(\"NX1, Nx2, \",len(Nx1), len(Nx2), Nx1, Nx2)\n",
    "            \n",
    "            if sim:\n",
    "                #print(\"in opt 1\")\n",
    "                wxp = np.where(case == 'possible')[0]\n",
    "                xp = x[wxp]\n",
    "                \n",
    "                ind1 = Sx1 + x + list(set(Nx1).difference(set(Sx1+xp)))\n",
    "                \n",
    "                foo = Sx2.copy(); foo.extend(xp)\n",
    "                ind2 = Sx2 + xp + list(set(Nx2).difference(set(Sx2+xp)))\n",
    "            else:\n",
    "                #print(\"in opt 2\")\n",
    "                ind1 = Sx1 + x + list(set(Nx1).difference(set(Sx1+x)))\n",
    "                \n",
    "                ind2 = Sx2 + list(set(Nx2).difference(set(Sx2)))\n",
    "                \n",
    "            if verb:\n",
    "                print(\"seed = \", Sx1, \", matching \", ind1, \" and \", ind2)\n",
    "                \n",
    "            #print(\"inside 2 w/ params Sx1 = \", Sx1, \", x = \", x, \", Nx1 = \", Nx1)\n",
    "            #print(\"inside 2 w/ indlens \", len(ind1), len(ind2), ind1, ind2)\n",
    "            n_iters = 20\n",
    "            As = shuffle_adj_matrix(A, ind1)\n",
    "            Bs = shuffle_adj_matrix(B, ind2)\n",
    "            \n",
    "            sgm = GMP(n_init=n_iters)\n",
    "            \n",
    "            # Note we must padd because the inputs are note guarenteed to be the same\n",
    "            totv1 = As.shape[1]\n",
    "            totv2 = Bs.shape[1]\n",
    "\n",
    "            if (totv1>totv2):\n",
    "                #print(\"in pad 2\")\n",
    "                diff = totv1-totv2\n",
    "                Bs = np.concatenate((Bs, np.full((Bs.shape[0], diff), pad)), axis=1)\n",
    "                Bs = np.concatenate((Bs, np.full((diff, Bs.shape[1]), pad)), axis=0)\n",
    "            elif (totv1<totv2):\n",
    "                #print(\"in pad 2\")\n",
    "                diff = totv2-totv1\n",
    "                As = np.concatenate((As, np.full((As.shape[0], diff), pad)), axis=1)\n",
    "                As = np.concatenate((As, np.full((diff, As.shape[1]), pad)), axis=0)\n",
    "        \n",
    "            #print(\"inside 2 w/ shapes \", As.shape, Bs.shape)\n",
    "            \n",
    "            P = sgm.fit_predict(As, Bs, seeds_A=np.arange(len(Sx1)), seeds_B=np.arange(len(Sx1))) #multistart_sgm(A, B, R, len(Sx1), g, pad=pad, n_iters=n_iters)\n",
    "            \n",
    "        else:\n",
    "            ind1 = ind2 = P = None\n",
    "    else:\n",
    "        ind1 = ind2 = P = Cx2 = None\n",
    "                \n",
    "    out_dic = {'case':case, 'x':x, 'S':S, 'Sx':Sx1, 'Sxp':Sx2, 'Cxp':Cx2, 'labelsGx':ind1, 'labelsGxp':ind2, 'P':P}\n",
    "    return out_dic\n",
    "            \n",
    "        \n",
    "        \n",
    "def rsp(n, g):\n",
    "    '''\n",
    "    n: int\n",
    "        dim of output\n",
    "        \n",
    "    g: float\n",
    "        between 0, 1 upper bound for step `alpha`\n",
    "    '''\n",
    "    s = np.random.choice(list(range(n)))\n",
    "    I = np.identity(n)\n",
    "    \n",
    "    P = I[s]\n",
    "    alpha = np.random.uniform(low=0, high=g)\n",
    "    \n",
    "    J = np.ones((n, n))\n",
    "    \n",
    "    bc = (1/n)*J\n",
    "    \n",
    "    return np.transpose((1-alpha)*bc+alpha*P)\n",
    "    \n",
    "    \n",
    "    \n",
    "    \n",
    "    "
   ]
  },
  {
   "cell_type": "code",
   "execution_count": null,
   "metadata": {},
   "outputs": [],
   "source": [
    "\n",
    "\n"
   ]
  },
  {
   "cell_type": "code",
   "execution_count": 285,
   "metadata": {},
   "outputs": [],
   "source": [
    "#define the parameters for the optimization\n",
    "hhop = 2\n",
    "ell = 2\n",
    "g = 0.1\n",
    "R = 50\n",
    "n_iter = 20\n",
    "voi = 27"
   ]
  },
  {
   "cell_type": "code",
   "execution_count": 286,
   "metadata": {},
   "outputs": [],
   "source": [
    "HSfrgraphcore = igraph.load(\"HSfrgraphcore.txt\", format=\"edges\")\n",
    "HSfrgraphcore.to_undirected()"
   ]
  },
  {
   "cell_type": "code",
   "execution_count": 287,
   "metadata": {},
   "outputs": [
    {
     "name": "stdout",
     "output_type": "stream",
     "text": [
      "(82, 82) <class 'numpy.ndarray'>\n"
     ]
    }
   ],
   "source": [
    "adj2a = np.array(HSfrgraphcore.get_adjacency().data)\n",
    "print(adj2a.shape, type(adj2a))\n",
    "\n",
    "adj2, perm2  = permute_adj_matrix(adj2a)"
   ]
  },
  {
   "cell_type": "code",
   "execution_count": 288,
   "metadata": {
    "collapsed": true
   },
   "outputs": [
    {
     "data": {
      "text/plain": [
       "<matplotlib.axes._subplots.AxesSubplot at 0x7fb4f320e250>"
      ]
     },
     "execution_count": 288,
     "metadata": {},
     "output_type": "execute_result"
    },
    {
     "data": {
      "image/png": "[encoded data removed]",
      "text/plain": [
       "<Figure size 720x720 with 2 Axes>"
      ]
     },
     "metadata": {
      "needs_background": "light"
     },
     "output_type": "display_data"
    }
   ],
   "source": [
    "heatmap(adj2a, title=\"Og adj matrix\")"
   ]
  },
  {
   "cell_type": "code",
   "execution_count": 289,
   "metadata": {
    "collapsed": true
   },
   "outputs": [
    {
     "data": {
      "text/plain": [
       "<matplotlib.axes._subplots.AxesSubplot at 0x7fb4f2a83890>"
      ]
     },
     "execution_count": 289,
     "metadata": {},
     "output_type": "execute_result"
    },
    {
     "data": {
      "image/png": "[encoded data removed]",
      "text/plain": [
       "<Figure size 720x720 with 2 Axes>"
      ]
     },
     "metadata": {
      "needs_background": "light"
     },
     "output_type": "display_data"
    }
   ],
   "source": [
    "heatmap(adj2, title=\"Perm adj matrix\")"
   ]
  },
  {
   "cell_type": "code",
   "execution_count": 290,
   "metadata": {},
   "outputs": [],
   "source": [
    "mmp = np.transpose(np.arange(adj2.shape[0]))\n",
    "mmp = np.transpose(np.stack((mmp, perm2)))\n",
    "\n",
    "mmp2 = np.transpose(np.arange(adj2.shape[0]))\n",
    "mmp2 = np.transpose(np.stack((perm2, mmp2)))"
   ]
  },
  {
   "cell_type": "code",
   "execution_count": 291,
   "metadata": {},
   "outputs": [],
   "source": [
    "sp = [(ii, jj) for ii, jj in zip(perm2, list(range(adj2.shape[0])))]\n",
    "sp.sort(key = lambda x: x[0])\n",
    "sp = np.array(sp)"
   ]
  },
  {
   "cell_type": "code",
   "execution_count": 292,
   "metadata": {},
   "outputs": [],
   "source": [
    "map2sort = mmp2[sp[:,1]]"
   ]
  },
  {
   "cell_type": "code",
   "execution_count": 293,
   "metadata": {},
   "outputs": [],
   "source": [
    "P = np.diag(list(range(1, adj2.shape[0]+1)))[perm2]-1"
   ]
  },
  {
   "cell_type": "code",
   "execution_count": 357,
   "metadata": {},
   "outputs": [
    {
     "name": "stdout",
     "output_type": "stream",
     "text": [
      "iter  0  w shapes  (82, 82) (82, 82)\n",
      "[ 1 49] [] []\n"
     ]
    },
    {
     "ename": "TypeError",
     "evalue": "list indices must be integers or slices, not NoneType",
     "output_type": "error",
     "traceback": [
      "\u001b[0;31m---------------------------------------------------------------------------\u001b[0m",
      "\u001b[0;31mTypeError\u001b[0m                                 Traceback (most recent call last)",
      "\u001b[0;32m<ipython-input-357-4167e6f4c6e0>\u001b[0m in \u001b[0;36m<module>\u001b[0;34m\u001b[0m\n\u001b[1;32m     25\u001b[0m         \u001b[0;31m#print(S)\u001b[0m\u001b[0;34m\u001b[0m\u001b[0;34m\u001b[0m\u001b[0;34m\u001b[0m\u001b[0m\n\u001b[1;32m     26\u001b[0m         \u001b[0mprint\u001b[0m\u001b[0;34m(\u001b[0m\u001b[0;34m\"iter \"\u001b[0m\u001b[0;34m,\u001b[0m \u001b[0mii\u001b[0m\u001b[0;34m,\u001b[0m \u001b[0;34m\" w shapes \"\u001b[0m\u001b[0;34m,\u001b[0m \u001b[0madj2a\u001b[0m\u001b[0;34m.\u001b[0m\u001b[0mshape\u001b[0m\u001b[0;34m,\u001b[0m \u001b[0madj2\u001b[0m\u001b[0;34m.\u001b[0m\u001b[0mshape\u001b[0m\u001b[0;34m)\u001b[0m\u001b[0;34m\u001b[0m\u001b[0;34m\u001b[0m\u001b[0m\n\u001b[0;32m---> 27\u001b[0;31m         \u001b[0mL\u001b[0m \u001b[0;34m=\u001b[0m \u001b[0mvnsgm\u001b[0m\u001b[0;34m(\u001b[0m\u001b[0mfb_voi\u001b[0m\u001b[0;34m,\u001b[0m \u001b[0mS\u001b[0m\u001b[0;34m,\u001b[0m \u001b[0madj2a\u001b[0m\u001b[0;34m,\u001b[0m \u001b[0madj2\u001b[0m\u001b[0;34m,\u001b[0m \u001b[0mhhop\u001b[0m\u001b[0;34m,\u001b[0m \u001b[0mell\u001b[0m\u001b[0;34m,\u001b[0m \u001b[0mR\u001b[0m\u001b[0;34m,\u001b[0m \u001b[0mg\u001b[0m\u001b[0;34m)\u001b[0m \u001b[0;31m# L <- localnbd(fb.voi,S,HSfbgraphcore,g.frscrambled,hhop,ell,R,g)\u001b[0m\u001b[0;34m\u001b[0m\u001b[0;34m\u001b[0m\u001b[0m\n\u001b[0m\u001b[1;32m     28\u001b[0m \u001b[0;34m\u001b[0m\u001b[0m\n\u001b[1;32m     29\u001b[0m         \u001b[0;32mif\u001b[0m \u001b[0mL\u001b[0m\u001b[0;34m[\u001b[0m\u001b[0;34m'P'\u001b[0m\u001b[0;34m]\u001b[0m \u001b[0;32mis\u001b[0m \u001b[0;32mnot\u001b[0m \u001b[0;32mNone\u001b[0m\u001b[0;34m:\u001b[0m\u001b[0;34m\u001b[0m\u001b[0;34m\u001b[0m\u001b[0m\n",
      "\u001b[0;32m<ipython-input-356-3a148b0d6772>\u001b[0m in \u001b[0;36mvnsgm\u001b[0;34m(x, seeds, A, B, h, ell, R, g, pad, sim, verb, plotF)\u001b[0m\n\u001b[1;32m     75\u001b[0m \u001b[0;31m#     P['Sx']  = seeds[P['Sx'],1]\u001b[0m\u001b[0;34m\u001b[0m\u001b[0;34m\u001b[0m\u001b[0;34m\u001b[0m\u001b[0m\n\u001b[1;32m     76\u001b[0m \u001b[0;31m#     P['Sxp'] = seeds[P['Sxp'],2]\u001b[0m\u001b[0;34m\u001b[0m\u001b[0;34m\u001b[0m\u001b[0;34m\u001b[0m\u001b[0m\n\u001b[0;32m---> 77\u001b[0;31m     \u001b[0mP\u001b[0m\u001b[0;34m[\u001b[0m\u001b[0;34m'Cxp'\u001b[0m\u001b[0;34m]\u001b[0m \u001b[0;34m=\u001b[0m \u001b[0mvec2\u001b[0m\u001b[0;34m[\u001b[0m\u001b[0mP\u001b[0m\u001b[0;34m[\u001b[0m\u001b[0;34m'Cxp'\u001b[0m\u001b[0;34m]\u001b[0m\u001b[0;34m]\u001b[0m\u001b[0;34m\u001b[0m\u001b[0;34m\u001b[0m\u001b[0m\n\u001b[0m\u001b[1;32m     78\u001b[0m     \u001b[0mlb2\u001b[0m \u001b[0;34m=\u001b[0m \u001b[0mvec\u001b[0m\u001b[0;34m[\u001b[0m\u001b[0mP\u001b[0m\u001b[0;34m[\u001b[0m\u001b[0;34m'labelsGx'\u001b[0m\u001b[0;34m]\u001b[0m\u001b[0;34m]\u001b[0m\u001b[0;34m\u001b[0m\u001b[0;34m\u001b[0m\u001b[0m\n\u001b[1;32m     79\u001b[0m     \u001b[0mP\u001b[0m\u001b[0;34m[\u001b[0m\u001b[0;34m'labelsGx'\u001b[0m\u001b[0;34m]\u001b[0m  \u001b[0;34m=\u001b[0m \u001b[0mlb2\u001b[0m\u001b[0;34m\u001b[0m\u001b[0;34m\u001b[0m\u001b[0m\n",
      "\u001b[0;31mTypeError\u001b[0m: list indices must be integers or slices, not NoneType"
     ]
    }
   ],
   "source": [
    "for vvi in range(1, adj2.shape[0]+1):\n",
    "    voi = vvi - 1\n",
    "    \n",
    "    fb_voi = map2sort[voi,0]\n",
    "    fr_voi = map2sort[voi,1]\n",
    "    \n",
    "    Nhtmp = ego(adj2a,hhop,voi,mindist=1)\n",
    "    \n",
    "    \n",
    "    imp2 = 0\n",
    "    nrankxp0 = 0\n",
    "    nrankxpBad = 0 \n",
    "    \n",
    "    nrvois = np.full(len(Nhtmp), None)\n",
    "    \n",
    "    imp2_h1l2 = 0\n",
    "    nrankxp0_h1l2 = 0\n",
    "    nrankxpBad_h1l2 = 0 \n",
    "    \n",
    "    nrvois_h1l2 = np.full(len(Nhtmp), None)\n",
    "    \n",
    "    for ii, seed in enumerate(Nhtmp):\n",
    "        S = map2sort[seed]\n",
    "        frtmp = fr_voi + (1 if S[1]>fr_voi else 0)\n",
    "        #print(S)\n",
    "        print(\"iter \", ii, \" w shapes \", adj2a.shape, adj2.shape)\n",
    "        L = vnsgm(fb_voi, S, adj2a, adj2, hhop, ell, R, g) # L <- localnbd(fb.voi,S,HSfbgraphcore,g.frscrambled,hhop,ell,R,g)\n",
    "        \n",
    "        if L['P'] is not None:\n",
    "            print(L)\n",
    "            \n",
    "            \n",
    "    \n",
    "    \n",
    "    "
   ]
  },
  {
   "cell_type": "code",
   "execution_count": 206,
   "metadata": {},
   "outputs": [
    {
     "data": {
      "text/plain": [
       "{1, 2}"
      ]
     },
     "execution_count": 206,
     "metadata": {},
     "output_type": "execute_result"
    }
   ],
   "source": [
    "seta = set([1,2,3]); setb = set([3,4,5])\n",
    "seta.difference(setb)"
   ]
  },
  {
   "cell_type": "code",
   "execution_count": null,
   "metadata": {},
   "outputs": [],
   "source": []
  }
 ],
 "metadata": {
  "kernelspec": {
   "display_name": "Python 3",
   "language": "python",
   "name": "python3"
  },
  "language_info": {
   "codemirror_mode": {
    "name": "ipython",
    "version": 3
   },
   "file_extension": ".py",
   "mimetype": "text/x-python",
   "name": "python",
   "nbconvert_exporter": "python",
   "pygments_lexer": "ipython3",
   "version": "3.7.6"
  }
 },
 "nbformat": 4,
 "nbformat_minor": 4
}
